{
  "cells": [
    {
      "cell_type": "markdown",
      "metadata": {
        "id": "V0lzCT-OffUB"
      },
      "source": [
        "# Групповое задание по теме «Классификация текста»\n",
        "Команда 2"
      ]
    },
    {
      "cell_type": "markdown",
      "metadata": {
        "id": "WXPerwbssXcF"
      },
      "source": [
        "# Описание датасета\n",
        "### Общая информация\n",
        "\n",
        "https://www.kaggle.com/datasets/mikhailklemin/kinopoisks-movies-reviews/code\n",
        "\n",
        "Коллекция рецензий пользователей на фильмы с сайта **kinopoisk.ru**:\n",
        "- положительных: 87101;\n",
        "- отрицательных: 19804;\n",
        "- нейтральных: 24678;\n",
        "- всего: 131583.\n",
        "\n",
        "Каждый отзыв хранится в отдельном текстовом файле (.txt). Основное содержимое файла — текст отзыва. Нет явной структуры вроде CSV-файла, просто чистый текст. Папки разделены по тональности отзывов:\n",
        "neg/ — негативные отзывы (19.8 тыс. файлов);\n",
        "neu/ — нейтральные отзывы (24.7 тыс. файлов);\n",
        "pos/ — положительные отзывы (87.1 тыс. файлов).\n",
        "\n",
        "**Вес файлов**: 539.31 МБ.\n",
        "\n",
        "**Метод разметки**: пользователи сайта самостоятельно указывают категорию отзыва.\n",
        "\n",
        "\n",
        "Разметка в целом соответствует содержанию. Пример: «Это похоже на бред сумасшедшего…» отрицательный отзыв, а «В целом идея хорошая, и три сезона по 10 серий не такие уж длинные. Но мне показалось, что сюжет подтянут… 6 из 10.» как нейтральный.\n",
        "\n",
        "\n",
        "### Гипотеза\n",
        "Наличие нейтральных отзывов в датасете фильмов снижает точность модели классификации отзывов по тональности (положительные и отрицательные), поскольку нейтральные тексты имею размытые признаки и могут \"размывать\" границы между положительными и отрицательными классами."
      ]
    },
    {
      "cell_type": "markdown",
      "metadata": {
        "id": "oqlPLmiPsfxu"
      },
      "source": [
        "# Загрузка датасета **Kinopoisk's movies reviews**\n"
      ]
    },
    {
      "cell_type": "markdown",
      "metadata": {
        "id": "j3pG0zIqu8-6"
      },
      "source": [
        "## Подключение Kaggle и установка файлов датасета"
      ]
    },
    {
      "cell_type": "code",
      "execution_count": null,
      "metadata": {
        "id": "s-eBI3PkstfT"
      },
      "outputs": [],
      "source": [
        "# install kaggle\n",
        "!pip install -q kaggle"
      ]
    },
    {
      "cell_type": "code",
      "execution_count": null,
      "metadata": {
        "collapsed": true,
        "id": "7goH3yxhtkfj"
      },
      "outputs": [],
      "source": [
        "from google.colab import files\n",
        "files.upload()"
      ]
    },
    {
      "cell_type": "code",
      "execution_count": null,
      "metadata": {
        "collapsed": true,
        "id": "MHwDgNSttwQd"
      },
      "outputs": [],
      "source": [
        "# create a kaggle folder\n",
        "!mkdir ~/.kaggle\n",
        "!cp kaggle.json ~/.kaggle/\n",
        "!chmod 600 ~/.kaggle/kaggle.json"
      ]
    },
    {
      "cell_type": "code",
      "execution_count": null,
      "metadata": {
        "colab": {
          "base_uri": "https://localhost:8080/"
        },
        "collapsed": true,
        "id": "EPC8wEdLt779",
        "outputId": "e37f1825-8fb9-4d96-cecb-82f420c9c1f2"
      },
      "outputs": [
        {
          "output_type": "stream",
          "name": "stdout",
          "text": [
            "Dataset URL: https://www.kaggle.com/datasets/mikhailklemin/kinopoisks-movies-reviews\n",
            "License(s): unknown\n",
            "Downloading kinopoisks-movies-reviews.zip to /content\n",
            " 86% 190M/222M [00:00<00:00, 445MB/s] \n",
            "100% 222M/222M [00:00<00:00, 487MB/s]\n"
          ]
        }
      ],
      "source": [
        "#!/bin/bash\n",
        "!kaggle datasets download mikhailklemin/kinopoisks-movies-reviews"
      ]
    },
    {
      "cell_type": "code",
      "execution_count": null,
      "metadata": {
        "collapsed": true,
        "id": "alA5FzQduY97"
      },
      "outputs": [],
      "source": [
        "!unzip kinopoisks-movies-reviews.zip"
      ]
    },
    {
      "cell_type": "markdown",
      "metadata": {
        "id": "uDrOahD_vUA0"
      },
      "source": [
        "## Подготовка датасета"
      ]
    },
    {
      "cell_type": "code",
      "execution_count": null,
      "metadata": {
        "collapsed": true,
        "id": "rgpSuvb1LTFj"
      },
      "outputs": [],
      "source": [
        "!pip install spacy\n",
        "!python -m spacy download ru_core_news_sm"
      ]
    },
    {
      "cell_type": "code",
      "execution_count": null,
      "metadata": {
        "collapsed": true,
        "id": "So-h1F2qu7VY"
      },
      "outputs": [],
      "source": [
        "import os\n",
        "import re\n",
        "\n",
        "import numpy as np\n",
        "import pandas as pd\n",
        "\n",
        "import spacy\n",
        "import nltk\n",
        "from nltk.corpus import stopwords\n",
        "\n",
        "from sklearn.model_selection import train_test_split\n",
        "from sklearn.feature_extraction.text import TfidfVectorizer\n",
        "from sklearn.metrics import accuracy_score, confusion_matrix, ConfusionMatrixDisplay\n",
        "\n",
        "from sklearn.svm import LinearSVC\n",
        "from sklearn.naive_bayes import GaussianNB, MultinomialNB\n",
        "from sklearn.linear_model import LogisticRegression"
      ]
    },
    {
      "cell_type": "code",
      "execution_count": null,
      "metadata": {
        "colab": {
          "base_uri": "https://localhost:8080/"
        },
        "collapsed": true,
        "id": "xH2V9M78DkLG",
        "outputId": "e7960782-ac3d-4315-bdc0-6388821479f1"
      },
      "outputs": [
        {
          "output_type": "stream",
          "name": "stderr",
          "text": [
            "[nltk_data] Downloading package stopwords to /root/nltk_data...\n",
            "[nltk_data]   Unzipping corpora/stopwords.zip.\n"
          ]
        },
        {
          "output_type": "execute_result",
          "data": {
            "text/plain": [
              "{'а',\n",
              " 'без',\n",
              " 'более',\n",
              " 'больше',\n",
              " 'будет',\n",
              " 'будто',\n",
              " 'бы',\n",
              " 'был',\n",
              " 'была',\n",
              " 'были',\n",
              " 'было',\n",
              " 'быть',\n",
              " 'в',\n",
              " 'вам',\n",
              " 'вас',\n",
              " 'вдруг',\n",
              " 'ведь',\n",
              " 'во',\n",
              " 'вот',\n",
              " 'впрочем',\n",
              " 'все',\n",
              " 'всегда',\n",
              " 'всего',\n",
              " 'всех',\n",
              " 'всю',\n",
              " 'вы',\n",
              " 'где',\n",
              " 'да',\n",
              " 'даже',\n",
              " 'два',\n",
              " 'для',\n",
              " 'до',\n",
              " 'другой',\n",
              " 'его',\n",
              " 'ее',\n",
              " 'ей',\n",
              " 'ему',\n",
              " 'если',\n",
              " 'есть',\n",
              " 'еще',\n",
              " 'ж',\n",
              " 'же',\n",
              " 'за',\n",
              " 'зачем',\n",
              " 'здесь',\n",
              " 'и',\n",
              " 'из',\n",
              " 'или',\n",
              " 'им',\n",
              " 'иногда',\n",
              " 'их',\n",
              " 'к',\n",
              " 'как',\n",
              " 'какая',\n",
              " 'какой',\n",
              " 'когда',\n",
              " 'конечно',\n",
              " 'кто',\n",
              " 'куда',\n",
              " 'ли',\n",
              " 'лучше',\n",
              " 'между',\n",
              " 'меня',\n",
              " 'мне',\n",
              " 'много',\n",
              " 'может',\n",
              " 'можно',\n",
              " 'мой',\n",
              " 'моя',\n",
              " 'мы',\n",
              " 'на',\n",
              " 'над',\n",
              " 'надо',\n",
              " 'наконец',\n",
              " 'нас',\n",
              " 'не',\n",
              " 'него',\n",
              " 'нее',\n",
              " 'ней',\n",
              " 'нельзя',\n",
              " 'нет',\n",
              " 'ни',\n",
              " 'нибудь',\n",
              " 'никогда',\n",
              " 'ним',\n",
              " 'них',\n",
              " 'ничего',\n",
              " 'но',\n",
              " 'ну',\n",
              " 'о',\n",
              " 'об',\n",
              " 'один',\n",
              " 'он',\n",
              " 'она',\n",
              " 'они',\n",
              " 'опять',\n",
              " 'от',\n",
              " 'перед',\n",
              " 'по',\n",
              " 'под',\n",
              " 'после',\n",
              " 'потом',\n",
              " 'потому',\n",
              " 'почти',\n",
              " 'при',\n",
              " 'про',\n",
              " 'раз',\n",
              " 'разве',\n",
              " 'с',\n",
              " 'сам',\n",
              " 'свою',\n",
              " 'себе',\n",
              " 'себя',\n",
              " 'сейчас',\n",
              " 'со',\n",
              " 'совсем',\n",
              " 'так',\n",
              " 'такой',\n",
              " 'там',\n",
              " 'тебя',\n",
              " 'тем',\n",
              " 'теперь',\n",
              " 'то',\n",
              " 'тогда',\n",
              " 'того',\n",
              " 'тоже',\n",
              " 'только',\n",
              " 'том',\n",
              " 'тот',\n",
              " 'три',\n",
              " 'тут',\n",
              " 'ты',\n",
              " 'у',\n",
              " 'уж',\n",
              " 'уже',\n",
              " 'хорошо',\n",
              " 'хоть',\n",
              " 'чего',\n",
              " 'чем',\n",
              " 'через',\n",
              " 'что',\n",
              " 'чтоб',\n",
              " 'чтобы',\n",
              " 'чуть',\n",
              " 'эти',\n",
              " 'этого',\n",
              " 'этой',\n",
              " 'этом',\n",
              " 'этот',\n",
              " 'эту',\n",
              " 'я'}"
            ]
          },
          "metadata": {},
          "execution_count": 9
        }
      ],
      "source": [
        "nltk.download(\"stopwords\")\n",
        "stop_words = set(stopwords.words(\"russian\"))\n",
        "\n",
        "stop_words"
      ]
    },
    {
      "cell_type": "code",
      "execution_count": null,
      "metadata": {
        "id": "2IVvHXefGMjb"
      },
      "outputs": [],
      "source": [
        "nlp = spacy.load(\"ru_core_news_sm\")\n",
        "\n",
        "# Включить если используется GPU\n",
        "# spacy.require_gpu()\n",
        "# spacy.prefer_gpu()"
      ]
    },
    {
      "cell_type": "markdown",
      "metadata": {
        "id": "ys1_T6tSEkUA"
      },
      "source": [
        "### Функции преобразования"
      ]
    },
    {
      "cell_type": "markdown",
      "metadata": {
        "id": "0xRkIRtbjfAM"
      },
      "source": [
        "Предварительная подготовка данных включает в себя этапы:\n",
        "- преобразование текста;\n",
        "- удаление пунктуации;\n",
        "- удаление пробельных символов;\n",
        "- удаление стоп-слов;\n",
        "- лемматизация.\n",
        "\n",
        "В блоке ниже представлены функции для предобработки текста, операция лемматизации является наиболее ресурсоёмкой."
      ]
    },
    {
      "cell_type": "code",
      "execution_count": null,
      "metadata": {
        "id": "FmyVvphQEnN7"
      },
      "outputs": [],
      "source": [
        "def format_text(text):\n",
        "    text = re.sub(r\"http\\S+\", \"\", text)\n",
        "    text = re.sub(r\"@\\S+\", \"\", text)\n",
        "    text = re.sub(r\"[^А-Яа-яA-Za-z0-9(),!?@\\'\\`\\\"\\_\\n]\", \" \", text)\n",
        "    text = re.sub(r\"[Ёё]\", \"е\", text)\n",
        "    text = re.sub(r\"[\\t\\n]\", \"\", text)\n",
        "    text = re.sub(r\"[^А-Яа-яa-zA-Z]\", \" \", text)\n",
        "    text = text.lower()\n",
        "    text = re.sub(r\"\\s+\", \" \", text).strip()\n",
        "    return text\n",
        "\n",
        "def remove_stop_words(text):\n",
        "  tokens = text.split()\n",
        "  tokens = [word for word in tokens if word not in stop_words]\n",
        "  return \" \".join(tokens)\n",
        "\n",
        "def lemmatize(text):\n",
        "  doc = nlp(text)\n",
        "  return \" \".join([token.lemma_ for token in doc])\n",
        "\n",
        "def preprocess_text(text):\n",
        "  text = format_text(text)\n",
        "  #text = remove_stop_words(text)\n",
        "  #text = lemmatize(text) # Не используем, так как далее применяем FastText\n",
        "  return text"
      ]
    },
    {
      "cell_type": "markdown",
      "metadata": {
        "id": "c_zIUXbIwJsS"
      },
      "source": [
        "### Константы проекта"
      ]
    },
    {
      "cell_type": "code",
      "execution_count": null,
      "metadata": {
        "id": "Cq0zQ0J1wMXT"
      },
      "outputs": [],
      "source": [
        "DATASET_BASE = './dataset'\n",
        "RANDOM_STATE = 42\n",
        "N_SAMPLES_PER_CLASS = 20000  # сколько максимально примеров брать из каждого класса\n",
        "\n",
        "np.random.seed(RANDOM_STATE)"
      ]
    },
    {
      "cell_type": "code",
      "execution_count": null,
      "metadata": {
        "colab": {
          "base_uri": "https://localhost:8080/"
        },
        "id": "pUwqFDBejQb_",
        "outputId": "f529b3a7-f9cb-4c36-e5b2-5874f7d4d713"
      },
      "outputs": [
        {
          "output_type": "stream",
          "name": "stdout",
          "text": [
            "Найдены классы: ['pos', 'neg', 'neu']\n",
            "Финальный размер датасета: (59827, 2)\n"
          ]
        }
      ],
      "source": [
        "df = pd.DataFrame(columns=['text', 'label'])\n",
        "labels = os.listdir(DATASET_BASE)\n",
        "print(\"Найдены классы:\", labels)\n",
        "\n",
        "for label in labels:\n",
        "    folder = os.path.join(DATASET_BASE, label)\n",
        "    files = os.listdir(folder)\n",
        "\n",
        "    np.random.shuffle(files)\n",
        "\n",
        "    n_to_take = min(len(files), N_SAMPLES_PER_CLASS)\n",
        "    selected_files = np.random.choice(files, n_to_take, replace=False)\n",
        "\n",
        "    for filename in selected_files:\n",
        "        file_path = os.path.join(folder, filename)\n",
        "        with open(file_path, \"r\", encoding=\"utf-8\") as f:\n",
        "            raw_text = f.read().strip()\n",
        "            processed_text = preprocess_text(raw_text)\n",
        "            df.loc[len(df)] = [processed_text, label]\n",
        "\n",
        "df = df.sample(frac=1, random_state=RANDOM_STATE).reset_index(drop=True)\n",
        "print(\"Финальный размер датасета:\", df.shape)\n"
      ]
    },
    {
      "cell_type": "code",
      "execution_count": null,
      "metadata": {
        "colab": {
          "base_uri": "https://localhost:8080/",
          "height": 206
        },
        "id": "Mr2XUplNkemK",
        "outputId": "87fbf57d-621b-432b-cb01-2712ecf578fe"
      },
      "outputs": [
        {
          "output_type": "execute_result",
          "data": {
            "text/plain": [
              "                                                    text label\n",
              "54749  вот только только вышла последняя серия нашего...   pos\n",
              "15077  сюжет фильма не нов но фишка в его интерпретац...   neu\n",
              "42927  есть красивое и горьковатое на вкус стихотворе...   neu\n",
              "12918  воспаленный электронный мозг стремясь осуществ...   neu\n",
              "51270  по французски забавный но к сожалению пустотел...   neu"
            ],
            "text/html": [
              "\n",
              "  <div id=\"df-2044b8bd-a07e-4d20-81a3-5caf53a5f920\" class=\"colab-df-container\">\n",
              "    <div>\n",
              "<style scoped>\n",
              "    .dataframe tbody tr th:only-of-type {\n",
              "        vertical-align: middle;\n",
              "    }\n",
              "\n",
              "    .dataframe tbody tr th {\n",
              "        vertical-align: top;\n",
              "    }\n",
              "\n",
              "    .dataframe thead th {\n",
              "        text-align: right;\n",
              "    }\n",
              "</style>\n",
              "<table border=\"1\" class=\"dataframe\">\n",
              "  <thead>\n",
              "    <tr style=\"text-align: right;\">\n",
              "      <th></th>\n",
              "      <th>text</th>\n",
              "      <th>label</th>\n",
              "    </tr>\n",
              "  </thead>\n",
              "  <tbody>\n",
              "    <tr>\n",
              "      <th>54749</th>\n",
              "      <td>вот только только вышла последняя серия нашего...</td>\n",
              "      <td>pos</td>\n",
              "    </tr>\n",
              "    <tr>\n",
              "      <th>15077</th>\n",
              "      <td>сюжет фильма не нов но фишка в его интерпретац...</td>\n",
              "      <td>neu</td>\n",
              "    </tr>\n",
              "    <tr>\n",
              "      <th>42927</th>\n",
              "      <td>есть красивое и горьковатое на вкус стихотворе...</td>\n",
              "      <td>neu</td>\n",
              "    </tr>\n",
              "    <tr>\n",
              "      <th>12918</th>\n",
              "      <td>воспаленный электронный мозг стремясь осуществ...</td>\n",
              "      <td>neu</td>\n",
              "    </tr>\n",
              "    <tr>\n",
              "      <th>51270</th>\n",
              "      <td>по французски забавный но к сожалению пустотел...</td>\n",
              "      <td>neu</td>\n",
              "    </tr>\n",
              "  </tbody>\n",
              "</table>\n",
              "</div>\n",
              "    <div class=\"colab-df-buttons\">\n",
              "\n",
              "  <div class=\"colab-df-container\">\n",
              "    <button class=\"colab-df-convert\" onclick=\"convertToInteractive('df-2044b8bd-a07e-4d20-81a3-5caf53a5f920')\"\n",
              "            title=\"Convert this dataframe to an interactive table.\"\n",
              "            style=\"display:none;\">\n",
              "\n",
              "  <svg xmlns=\"http://www.w3.org/2000/svg\" height=\"24px\" viewBox=\"0 -960 960 960\">\n",
              "    <path d=\"M120-120v-720h720v720H120Zm60-500h600v-160H180v160Zm220 220h160v-160H400v160Zm0 220h160v-160H400v160ZM180-400h160v-160H180v160Zm440 0h160v-160H620v160ZM180-180h160v-160H180v160Zm440 0h160v-160H620v160Z\"/>\n",
              "  </svg>\n",
              "    </button>\n",
              "\n",
              "  <style>\n",
              "    .colab-df-container {\n",
              "      display:flex;\n",
              "      gap: 12px;\n",
              "    }\n",
              "\n",
              "    .colab-df-convert {\n",
              "      background-color: #E8F0FE;\n",
              "      border: none;\n",
              "      border-radius: 50%;\n",
              "      cursor: pointer;\n",
              "      display: none;\n",
              "      fill: #1967D2;\n",
              "      height: 32px;\n",
              "      padding: 0 0 0 0;\n",
              "      width: 32px;\n",
              "    }\n",
              "\n",
              "    .colab-df-convert:hover {\n",
              "      background-color: #E2EBFA;\n",
              "      box-shadow: 0px 1px 2px rgba(60, 64, 67, 0.3), 0px 1px 3px 1px rgba(60, 64, 67, 0.15);\n",
              "      fill: #174EA6;\n",
              "    }\n",
              "\n",
              "    .colab-df-buttons div {\n",
              "      margin-bottom: 4px;\n",
              "    }\n",
              "\n",
              "    [theme=dark] .colab-df-convert {\n",
              "      background-color: #3B4455;\n",
              "      fill: #D2E3FC;\n",
              "    }\n",
              "\n",
              "    [theme=dark] .colab-df-convert:hover {\n",
              "      background-color: #434B5C;\n",
              "      box-shadow: 0px 1px 3px 1px rgba(0, 0, 0, 0.15);\n",
              "      filter: drop-shadow(0px 1px 2px rgba(0, 0, 0, 0.3));\n",
              "      fill: #FFFFFF;\n",
              "    }\n",
              "  </style>\n",
              "\n",
              "    <script>\n",
              "      const buttonEl =\n",
              "        document.querySelector('#df-2044b8bd-a07e-4d20-81a3-5caf53a5f920 button.colab-df-convert');\n",
              "      buttonEl.style.display =\n",
              "        google.colab.kernel.accessAllowed ? 'block' : 'none';\n",
              "\n",
              "      async function convertToInteractive(key) {\n",
              "        const element = document.querySelector('#df-2044b8bd-a07e-4d20-81a3-5caf53a5f920');\n",
              "        const dataTable =\n",
              "          await google.colab.kernel.invokeFunction('convertToInteractive',\n",
              "                                                    [key], {});\n",
              "        if (!dataTable) return;\n",
              "\n",
              "        const docLinkHtml = 'Like what you see? Visit the ' +\n",
              "          '<a target=\"_blank\" href=https://colab.research.google.com/notebooks/data_table.ipynb>data table notebook</a>'\n",
              "          + ' to learn more about interactive tables.';\n",
              "        element.innerHTML = '';\n",
              "        dataTable['output_type'] = 'display_data';\n",
              "        await google.colab.output.renderOutput(dataTable, element);\n",
              "        const docLink = document.createElement('div');\n",
              "        docLink.innerHTML = docLinkHtml;\n",
              "        element.appendChild(docLink);\n",
              "      }\n",
              "    </script>\n",
              "  </div>\n",
              "\n",
              "\n",
              "    <div id=\"df-f6298cb9-448e-4f4a-b84c-380100fda1b8\">\n",
              "      <button class=\"colab-df-quickchart\" onclick=\"quickchart('df-f6298cb9-448e-4f4a-b84c-380100fda1b8')\"\n",
              "                title=\"Suggest charts\"\n",
              "                style=\"display:none;\">\n",
              "\n",
              "<svg xmlns=\"http://www.w3.org/2000/svg\" height=\"24px\"viewBox=\"0 0 24 24\"\n",
              "     width=\"24px\">\n",
              "    <g>\n",
              "        <path d=\"M19 3H5c-1.1 0-2 .9-2 2v14c0 1.1.9 2 2 2h14c1.1 0 2-.9 2-2V5c0-1.1-.9-2-2-2zM9 17H7v-7h2v7zm4 0h-2V7h2v10zm4 0h-2v-4h2v4z\"/>\n",
              "    </g>\n",
              "</svg>\n",
              "      </button>\n",
              "\n",
              "<style>\n",
              "  .colab-df-quickchart {\n",
              "      --bg-color: #E8F0FE;\n",
              "      --fill-color: #1967D2;\n",
              "      --hover-bg-color: #E2EBFA;\n",
              "      --hover-fill-color: #174EA6;\n",
              "      --disabled-fill-color: #AAA;\n",
              "      --disabled-bg-color: #DDD;\n",
              "  }\n",
              "\n",
              "  [theme=dark] .colab-df-quickchart {\n",
              "      --bg-color: #3B4455;\n",
              "      --fill-color: #D2E3FC;\n",
              "      --hover-bg-color: #434B5C;\n",
              "      --hover-fill-color: #FFFFFF;\n",
              "      --disabled-bg-color: #3B4455;\n",
              "      --disabled-fill-color: #666;\n",
              "  }\n",
              "\n",
              "  .colab-df-quickchart {\n",
              "    background-color: var(--bg-color);\n",
              "    border: none;\n",
              "    border-radius: 50%;\n",
              "    cursor: pointer;\n",
              "    display: none;\n",
              "    fill: var(--fill-color);\n",
              "    height: 32px;\n",
              "    padding: 0;\n",
              "    width: 32px;\n",
              "  }\n",
              "\n",
              "  .colab-df-quickchart:hover {\n",
              "    background-color: var(--hover-bg-color);\n",
              "    box-shadow: 0 1px 2px rgba(60, 64, 67, 0.3), 0 1px 3px 1px rgba(60, 64, 67, 0.15);\n",
              "    fill: var(--button-hover-fill-color);\n",
              "  }\n",
              "\n",
              "  .colab-df-quickchart-complete:disabled,\n",
              "  .colab-df-quickchart-complete:disabled:hover {\n",
              "    background-color: var(--disabled-bg-color);\n",
              "    fill: var(--disabled-fill-color);\n",
              "    box-shadow: none;\n",
              "  }\n",
              "\n",
              "  .colab-df-spinner {\n",
              "    border: 2px solid var(--fill-color);\n",
              "    border-color: transparent;\n",
              "    border-bottom-color: var(--fill-color);\n",
              "    animation:\n",
              "      spin 1s steps(1) infinite;\n",
              "  }\n",
              "\n",
              "  @keyframes spin {\n",
              "    0% {\n",
              "      border-color: transparent;\n",
              "      border-bottom-color: var(--fill-color);\n",
              "      border-left-color: var(--fill-color);\n",
              "    }\n",
              "    20% {\n",
              "      border-color: transparent;\n",
              "      border-left-color: var(--fill-color);\n",
              "      border-top-color: var(--fill-color);\n",
              "    }\n",
              "    30% {\n",
              "      border-color: transparent;\n",
              "      border-left-color: var(--fill-color);\n",
              "      border-top-color: var(--fill-color);\n",
              "      border-right-color: var(--fill-color);\n",
              "    }\n",
              "    40% {\n",
              "      border-color: transparent;\n",
              "      border-right-color: var(--fill-color);\n",
              "      border-top-color: var(--fill-color);\n",
              "    }\n",
              "    60% {\n",
              "      border-color: transparent;\n",
              "      border-right-color: var(--fill-color);\n",
              "    }\n",
              "    80% {\n",
              "      border-color: transparent;\n",
              "      border-right-color: var(--fill-color);\n",
              "      border-bottom-color: var(--fill-color);\n",
              "    }\n",
              "    90% {\n",
              "      border-color: transparent;\n",
              "      border-bottom-color: var(--fill-color);\n",
              "    }\n",
              "  }\n",
              "</style>\n",
              "\n",
              "      <script>\n",
              "        async function quickchart(key) {\n",
              "          const quickchartButtonEl =\n",
              "            document.querySelector('#' + key + ' button');\n",
              "          quickchartButtonEl.disabled = true;  // To prevent multiple clicks.\n",
              "          quickchartButtonEl.classList.add('colab-df-spinner');\n",
              "          try {\n",
              "            const charts = await google.colab.kernel.invokeFunction(\n",
              "                'suggestCharts', [key], {});\n",
              "          } catch (error) {\n",
              "            console.error('Error during call to suggestCharts:', error);\n",
              "          }\n",
              "          quickchartButtonEl.classList.remove('colab-df-spinner');\n",
              "          quickchartButtonEl.classList.add('colab-df-quickchart-complete');\n",
              "        }\n",
              "        (() => {\n",
              "          let quickchartButtonEl =\n",
              "            document.querySelector('#df-f6298cb9-448e-4f4a-b84c-380100fda1b8 button');\n",
              "          quickchartButtonEl.style.display =\n",
              "            google.colab.kernel.accessAllowed ? 'block' : 'none';\n",
              "        })();\n",
              "      </script>\n",
              "    </div>\n",
              "\n",
              "    </div>\n",
              "  </div>\n"
            ],
            "application/vnd.google.colaboratory.intrinsic+json": {
              "type": "dataframe",
              "summary": "{\n  \"name\": \"df\",\n  \"rows\": 5,\n  \"fields\": [\n    {\n      \"column\": \"text\",\n      \"properties\": {\n        \"dtype\": \"string\",\n        \"num_unique_values\": 5,\n        \"samples\": [\n          \"\\u0441\\u044e\\u0436\\u0435\\u0442 \\u0444\\u0438\\u043b\\u044c\\u043c\\u0430 \\u043d\\u0435 \\u043d\\u043e\\u0432 \\u043d\\u043e \\u0444\\u0438\\u0448\\u043a\\u0430 \\u0432 \\u0435\\u0433\\u043e \\u0438\\u043d\\u0442\\u0435\\u0440\\u043f\\u0440\\u0435\\u0442\\u0430\\u0446\\u0438\\u0438 \\u0441\\u043c\\u043e\\u0442\\u0440\\u0435\\u0442\\u044c \\u043f\\u0440\\u0438\\u0437\\u043d\\u0430\\u0442\\u044c\\u0441\\u044f \\u0441\\u043a\\u0443\\u0447\\u043d\\u043e\\u0432\\u0430\\u0442\\u043e \\u043d\\u043e \\u043a\\u0438\\u043d\\u043e \\u0437\\u0430\\u043f\\u043e\\u043c\\u0438\\u043d\\u0430\\u0435\\u0442\\u0441\\u044f \\u0438 \\u043f\\u0435\\u0440\\u0435\\u0441\\u043c\\u0430\\u0442\\u0440\\u0438\\u0432\\u0430\\u0442\\u044c \\u043d\\u0435\\u043e\\u0431\\u0445\\u043e\\u0434\\u0438\\u043c\\u043e\\u0441\\u0442\\u0438 \\u043d\\u0435 \\u043f\\u043e\\u044f\\u0432\\u0438\\u0442\\u0441\\u044f \\u0431\\u0435\\u0434\\u043d\\u044b\\u0439 \\u043c\\u043e\\u043b\\u043e\\u0434\\u043e\\u0439 \\u0447\\u0435\\u043b\\u043e\\u0432\\u0435\\u043a \\u043a\\u0440\\u0438\\u0441 \\u043f\\u0440\\u0438\\u043d\\u0438\\u043c\\u0430\\u0435\\u0442 \\u043b\\u044e\\u0431\\u043e\\u0432\\u044c \\u0438 \\u0441\\u043e\\u043f\\u0443\\u0442\\u0441\\u0442\\u0432\\u0443\\u044e\\u0449\\u0438\\u0435 \\u0435\\u0439 \\u0431\\u043b\\u0430\\u0433\\u0430 \\u043e\\u0442 \\u043c\\u043e\\u043b\\u043e\\u0434\\u043e\\u0439 \\u0431\\u043e\\u0433\\u0430\\u0442\\u043e\\u0439 \\u0434\\u0435\\u0432\\u0438\\u0446\\u044b \\u0431\\u044b\\u0442 \\u0443\\u0441\\u0442\\u0440\\u0430\\u0438\\u0432\\u0430\\u0435\\u0442\\u0441\\u044f \\u0441\\u0430\\u043c \\u0441\\u043e\\u0431\\u043e\\u0439 \\u043f\\u043e\\u043b\\u043e\\u0436\\u0435\\u043d\\u0438\\u0435 \\u0432 \\u043e\\u0431\\u0449\\u0435\\u0441\\u0442\\u0432\\u0435 \\u0443\\u043f\\u0440\\u043e\\u0447\\u0438\\u0432\\u0430\\u0435\\u0442\\u0441\\u044f \\u0434\\u0435\\u043d\\u044c\\u0433\\u0438 \\u043f\\u0435\\u0440\\u0435\\u0441\\u0442\\u0430\\u044e\\u0442 \\u0431\\u044b\\u0442\\u044c \\u043f\\u0440\\u043e\\u0431\\u043b\\u0435\\u043c\\u043e\\u0439 \\u043d\\u043e \\u0432 \\u044d\\u0442\\u043e\\u043c \\u0441\\u0442\\u0435\\u0440\\u0438\\u043b\\u044c\\u043d\\u043e\\u043c \\u043c\\u0438\\u0440\\u0435 \\u043d\\u043e\\u0432\\u043e\\u0438\\u0441\\u043f\\u0435\\u0447\\u0435\\u043d\\u043d\\u044b\\u0439 \\u043c\\u0443\\u0436 \\u0441\\u043a\\u0443\\u0447\\u0430\\u0435\\u0442 \\u0438 \\u0445\\u043e\\u0447\\u0435\\u0442 \\u0441\\u0442\\u0440\\u0430\\u0441\\u0442\\u0435\\u0439 \\u043a\\u043e\\u0442\\u043e\\u0440\\u044b\\u0435 \\u0441\\u043e\\u0431\\u0441\\u0442\\u0432\\u0435\\u043d\\u043d\\u043e \\u0438 \\u043e\\u0431\\u0440\\u0435\\u0442\\u0430\\u0435\\u0442 \\u0432 \\u043e\\u0442\\u043d\\u043e\\u0448\\u0435\\u043d\\u0438\\u044f\\u0445 \\u0441 \\u043c\\u043e\\u043b\\u043e\\u0434\\u043e\\u0439 \\u043d\\u0435\\u0443\\u0434\\u0430\\u0447\\u043b\\u0438\\u0432\\u043e\\u0439 \\u0430\\u043a\\u0442\\u0440\\u0438\\u0441\\u043e\\u0439 \\u0437\\u0440\\u0438\\u0442\\u0435\\u043b\\u044c \\u043a\\u043e\\u0442\\u043e\\u0440\\u044b\\u0439 \\u0443\\u0432\\u0438\\u0434\\u0438\\u0442 \\u0432 \\u043d\\u043e\\u043b\\u0435 \\u043b\\u0438\\u0448\\u044c \\u0438\\u0441\\u0442\\u0435\\u0440\\u0438\\u0447\\u043a\\u0443 \\u0433\\u043b\\u0443\\u0431\\u043e\\u043a\\u043e \\u043e\\u0448\\u0438\\u0431\\u0435\\u0442\\u0441\\u044f \\u043f\\u043e\\u0442\\u043e\\u043c\\u0443 \\u0447\\u0442\\u043e \\u0438\\u043c\\u0435\\u043d\\u043d\\u043e \\u0432 \\u044d\\u0442\\u043e\\u0439 \\u0433\\u0435\\u0440\\u043e\\u0438\\u043d\\u0435 \\u0441\\u043e\\u0441\\u0440\\u0435\\u0434\\u043e\\u0442\\u043e\\u0447\\u0435\\u043d\\u0430 \\u0436\\u0438\\u0437\\u043d\\u044c \\u0441\\u0442\\u0440\\u0430\\u0445\\u0438 \\u043e\\u0448\\u0438\\u0431\\u043a\\u0438 \\u043f\\u043e\\u043f\\u044b\\u0442\\u043a\\u0438 \\u0432\\u0441\\u0435 \\u043d\\u0430\\u0447\\u0430\\u0442\\u044c \\u0441\\u043d\\u0430\\u0447\\u0430\\u043b\\u0430 \\u043f\\u043e\\u0442\\u0435\\u0440\\u044f \\u0432\\u0435\\u0440\\u044b \\u0438 \\u0435\\u0435 \\u043e\\u0431\\u0440\\u0435\\u0442\\u0435\\u043d\\u0438\\u0435 \\u0438 \\u043c\\u043d\\u043e\\u0433\\u043e \\u0447\\u0435\\u0433\\u043e \\u0435\\u0449 \\u043d\\u043e\\u043b\\u0430 \\u0433\\u043b\\u0443\\u0431\\u043e\\u043a\\u0430 \\u0438 \\u0438\\u0441\\u043a\\u0440\\u0435\\u043d\\u043d\\u0430 \\u043e\\u043d\\u0430 \\u043d\\u0438\\u043a\\u043e\\u043c\\u0443 \\u043d\\u0435 \\u043d\\u0430\\u0432\\u044f\\u0437\\u044b\\u0432\\u0430\\u0435\\u0442\\u0441\\u044f \\u043e\\u043d\\u0430 \\u043d\\u0435 \\u043f\\u043e\\u043b\\u044c\\u0437\\u0443\\u0435\\u0442\\u0441\\u044f \\u0441\\u0432\\u043e\\u0435\\u0439 \\u043a\\u0440\\u0430\\u0441\\u043e\\u0442\\u043e\\u0439 \\u043d\\u0435\\u0442 \\u043f\\u043e\\u043b\\u044c\\u0437\\u0443\\u044e\\u0442\\u0441\\u044f \\u0435\\u044e \\u043d\\u0430 \\u0435 \\u0444\\u043e\\u043d\\u0435 \\u0435\\u0449 \\u0441\\u0438\\u043b\\u044c\\u043d\\u0435\\u0435 \\u0437\\u0430\\u043c\\u0435\\u0442\\u0435\\u043d \\u0443\\u0431\\u043e\\u0433\\u0438\\u0439 \\u043c\\u0438\\u0440 \\u0445\\u043b\\u043e\\u0438 \\u0436\\u0435\\u043d\\u044b \\u043a\\u0440\\u0438\\u0441\\u0430 \\u043c\\u0438\\u0440 \\u0432 \\u043a\\u043e\\u0442\\u043e\\u0440\\u043e\\u043c \\u0438\\u0441\\u043a\\u0443\\u0441\\u0441\\u0442\\u0432\\u043e \\u043e\\u0446\\u0435\\u043d\\u0438\\u0432\\u0430\\u0435\\u0442\\u0441\\u044f \\u043a\\u0440\\u0430\\u0442\\u043a\\u0438\\u043c\\u0438 \\u0440\\u0435\\u043f\\u043b\\u0438\\u043a\\u0430\\u043c\\u0438 \\u0432 \\u0440\\u0430\\u0437\\u0433\\u043e\\u0432\\u043e\\u0440\\u0430\\u0445 \\u043e \\u0442\\u043e\\u043c \\u043a\\u0442\\u043e \\u0441 \\u043a\\u0435\\u043c \\u0440\\u0430\\u0437\\u0432\\u0435\\u043b\\u0441\\u044f \\u0438 \\u043a\\u0442\\u043e \\u0443 \\u043a\\u043e\\u0433\\u043e \\u0440\\u043e\\u0434\\u0438\\u043b\\u0441\\u044f \\u043c\\u0438\\u0440 \\u0432 \\u043a\\u043e\\u0442\\u043e\\u0440\\u043e\\u043c \\u0434\\u0435\\u0442\\u0435\\u0439 \\u0434\\u0435\\u043b\\u0430\\u044e\\u0442 \\u043c\\u0435\\u0445\\u0430\\u043d\\u0438\\u0447\\u0435\\u0441\\u043a\\u0438 \\u0438 \\u0442\\u043e\\u0440\\u043e\\u043f\\u043b\\u0438\\u0432\\u043e \\u043c\\u0438\\u0440 \\u0432 \\u043a\\u043e\\u0442\\u043e\\u0440\\u043e\\u043c \\u043f\\u043e\\u043f\\u044b\\u0442\\u043a\\u0438 \\u043f\\u043e\\u043d\\u044f\\u0442\\u044c \\u0441\\u0443\\u0442\\u044c \\u0436\\u0438\\u0437\\u043d\\u0438 \\u0432\\u044b\\u0437\\u044b\\u0432\\u0430\\u044e\\u0442 \\u043e\\u0442\\u0432\\u0440\\u0430\\u0449\\u0435\\u043d\\u0438\\u0435 \\u0438 \\u0441\\u043a\\u0443\\u043a\\u0443 \\u043d\\u043e \\u043a\\u0440\\u0438\\u0441 \\u0443\\u0436\\u0435 \\u043d\\u0435 \\u0437\\u0430\\u043c\\u0435\\u0447\\u0430\\u0435\\u0442 \\u0432\\u0441\\u0435\\u0445 \\u044d\\u0442\\u0438\\u0445 \\u043c\\u0435\\u043b\\u043e\\u0447\\u0435\\u0439 \\u0437\\u043d\\u0430\\u0447\\u0438\\u0442\\u0435\\u043b\\u044c\\u043d\\u044b\\u043c \\u043d\\u0435\\u043e\\u0431\\u0445\\u043e\\u0434\\u0438\\u043c\\u044b\\u043c \\u043a\\u0430\\u043a \\u0432\\u043e\\u0437\\u0434\\u0443\\u0445 \\u0441\\u0442\\u0430\\u043d\\u043e\\u0432\\u0438\\u0442\\u0441\\u044f \\u043e\\u0449\\u0443\\u0449\\u0435\\u043d\\u0438\\u0435 \\u043a\\u043e\\u043c\\u0444\\u043e\\u0440\\u0442\\u0430 \\u0438 \\u043f\\u0440\\u0438\\u0447\\u0430\\u0441\\u0442\\u043d\\u043e\\u0441\\u0442\\u0438 \\u043a \\u043a\\u043b\\u0430\\u0441\\u0441\\u0443 \\u0438\\u0437\\u0431\\u0440\\u0430\\u043d\\u043d\\u044b\\u0445 \\u0441\\u0438\\u043b\\u044c\\u043d\\u044b\\u0445 \\u043c\\u0438\\u0440\\u0430 \\u0441\\u0435\\u0433\\u043e \\u0438 \\u0447\\u0442\\u043e\\u0431\\u044b \\u0441\\u043e\\u0445\\u0440\\u0430\\u043d\\u0438\\u0442\\u044c \\u0441\\u0432\\u043e\\u0435 \\u043f\\u043e\\u043b\\u043e\\u0436\\u0435\\u043d\\u0438\\u0435 \\u043e\\u043d \\u043d\\u0435 \\u043e\\u0441\\u0442\\u0430\\u043d\\u043e\\u0432\\u0438\\u0442\\u0441\\u044f \\u043d\\u0438 \\u043f\\u0435\\u0440\\u0435\\u0434 \\u0447\\u0435\\u043c \\u0441\\u043b\\u0438\\u0448\\u043a\\u043e\\u043c \\u043e\\u0441\\u043b\\u0430\\u0431 \\u043a\\u0440\\u0438\\u0441 \\u0445\\u043e\\u0442\\u044f \\u0431\\u044b\\u043b \\u043b\\u0438 \\u0441\\u0438\\u043b\\u0435\\u043d \\u0432\\u0435\\u0434\\u044c \\u0441 \\u0442\\u0435\\u043d\\u043d\\u0438\\u0441\\u043e\\u043c \\u0443 \\u043d\\u0435\\u0433\\u043e \\u0442\\u043e\\u0436\\u0435 \\u043e\\u0442\\u0447\\u0435\\u0433\\u043e \\u0442\\u043e \\u043d\\u0435 \\u0441\\u043b\\u043e\\u0436\\u0438\\u043b\\u043e\\u0441\\u044c \\u043f\\u0440\\u0438\\u0432\\u044b\\u043a \\u043a \\u0431\\u043b\\u0430\\u0433\\u043e\\u043f\\u043e\\u043b\\u0443\\u0447\\u0438\\u044e \\u0438 \\u043d\\u0430 \\u0431\\u0430\\u0440\\u0440\\u0438\\u043a\\u0430\\u0434\\u044b \\u0435\\u043c\\u0443 \\u0441\\u043e\\u0432\\u0441\\u0435\\u043c \\u043d\\u0435 \\u0445\\u043e\\u0447\\u0435\\u0442\\u0441\\u044f \\u043a\\u0440\\u0438\\u0441 \\u0432\\u0435\\u0437\\u0443\\u043d\\u0447\\u0438\\u043a \\u0435\\u043c\\u0443 \\u0438\\u043c\\u0435\\u043d\\u043d\\u043e \\u0432\\u0435\\u0437 \\u0442 \\u043d\\u0438 \\u0443\\u043f\\u043e\\u0440\\u043d\\u043e\\u0433\\u043e \\u0442\\u0440\\u0443\\u0434\\u0430 \\u043d\\u0438 \\u0434\\u0443\\u0448\\u0435\\u0432\\u043d\\u044b\\u0445 \\u043c\\u0443\\u043a \\u0438 \\u0442\\u0435\\u0440\\u0437\\u0430\\u043d\\u0438\\u0439 \\u043d\\u0438 \\u0442\\u0435\\u0440\\u043d\\u0438\\u0441\\u0442\\u044b\\u0445 \\u0434\\u043e\\u0440\\u043e\\u0433 \\u0430 \\u0436\\u0438\\u0437\\u043d\\u044c \\u0432\\u0435\\u0434\\u044c \\u0441\\u043b\\u043e\\u0436\\u0438\\u043b\\u0430\\u0441\\u044c \\u0432\\u0443\\u0434\\u0438\\u043a \\u0441\\u043c\\u0435\\u0435\\u0442\\u0441\\u044f \\u043d\\u0430\\u0434 \\u043d\\u0430\\u0448\\u0438\\u043c \\u043c\\u0438\\u0440\\u043e\\u043c \\u0438 \\u043d\\u0430\\u0434 \\u043d\\u0430\\u043c\\u0438 \\u0437\\u0434\\u0435\\u0441\\u044c \\u043d\\u0435\\u0442 \\u043f\\u0440\\u043e\\u043f\\u0430\\u0433\\u0430\\u043d\\u0434\\u044b \\u0438\\u043b\\u0438 \\u043a\\u0430\\u043a\\u0438\\u0445 \\u0442\\u043e \\u043d\\u0440\\u0430\\u0432\\u043e\\u0443\\u0447\\u0435\\u043d\\u0438\\u0439 \\u043d\\u043e \\u0435\\u0441\\u0442\\u044c \\u0442\\u043e\\u043b\\u044c\\u043a\\u043e \\u043f\\u043e\\u043d\\u0438\\u043c\\u0430\\u043d\\u0438\\u0435 \\u0430\\u0431\\u0441\\u0443\\u0440\\u0434\\u043d\\u043e\\u0441\\u0442\\u0438 \\u043d\\u0430\\u0448\\u0435\\u0433\\u043e \\u043c\\u0438\\u0440\\u043e\\u0443\\u0441\\u0442\\u0440\\u043e\\u0439\\u0441\\u0442\\u0432\\u0430 \\u0438 \\u044d\\u0442\\u0430 \\u0436\\u0435 \\u0438\\u0434\\u0435\\u044f \\u043a\\u0440\\u0430\\u0441\\u043d\\u043e\\u0439 \\u043b\\u0438\\u043d\\u0438\\u0435\\u0439 \\u043f\\u0440\\u043e\\u0445\\u043e\\u0434\\u0438\\u0442 \\u0432 \\u0437\\u0430\\u043c\\u0435\\u0447\\u0430\\u0442\\u0435\\u043b\\u044c\\u043d\\u043e\\u043c \\u0444\\u0438\\u043b\\u044c\\u043c\\u0435 \\u044d\\u043d\\u043d\\u0438 \\u0445\\u043e\\u043b\\u043b \\u0441\\u0435\\u043c \\u0440\\u043e\\u0447\\u043a\\u0430\",\n          \"\\u043f\\u043e \\u0444\\u0440\\u0430\\u043d\\u0446\\u0443\\u0437\\u0441\\u043a\\u0438 \\u0437\\u0430\\u0431\\u0430\\u0432\\u043d\\u044b\\u0439 \\u043d\\u043e \\u043a \\u0441\\u043e\\u0436\\u0430\\u043b\\u0435\\u043d\\u0438\\u044e \\u043f\\u0443\\u0441\\u0442\\u043e\\u0442\\u0435\\u043b\\u044b\\u0439 \\u0444\\u0438\\u043b\\u044c\\u043c \\u043c\\u0443\\u0436 \\u043f\\u0440\\u0435\\u043f\\u043e\\u0434\\u043d\\u043e\\u0441\\u0438\\u0442 \\u043b\\u044e\\u0431\\u0438\\u043c\\u043e\\u0439 \\u0436\\u0435\\u043d\\u0435 \\u043d\\u0430 \\u0445\\u043b\\u0435\\u0442\\u0438\\u0435 \\u0441\\u0435\\u043c\\u0435\\u0439\\u043d\\u043e\\u0439 \\u0436\\u0438\\u0437\\u043d\\u0438 \\u0441\\u0438\\u043c\\u043f\\u0430\\u0442\\u044f\\u0433\\u0443 \\u0449\\u0435\\u043d\\u043a\\u0430 \\u0430\\u043d\\u0433\\u043b\\u0438\\u0439\\u0441\\u043a\\u043e\\u0433\\u043e \\u0431\\u0443\\u043b\\u044c\\u0434\\u043e\\u0433\\u0430 \\u0438 \\u0441\\u0430\\u043c \\u0442\\u043e\\u0433\\u043e \\u043d\\u0435 \\u043e\\u0436\\u0438\\u0434\\u0430\\u044f \\u0434\\u043e\\u043f\\u0443\\u0441\\u043a\\u0430\\u0435\\u0442 \\u044d\\u0442\\u0438\\u043c \\u0442\\u0440\\u0430\\u0433\\u0438\\u0447\\u0435\\u0441\\u043a\\u0443\\u044e \\u043e\\u0448\\u0438\\u0431\\u043a\\u0443 \\u043e\\u0442\\u043d\\u043e\\u0448\\u0435\\u043d\\u0438\\u044f \\u0432 \\u0438\\u0445 \\u0441\\u0435\\u043c\\u044c\\u0435 \\u0440\\u0430\\u0437\\u043b\\u0430\\u0436\\u0438\\u0432\\u0430\\u0435\\u0442\\u0441\\u044f \\u043f\\u043e\\u0442\\u043e\\u043c\\u0443 \\u0447\\u0442\\u043e \\u0432\\u0435\\u0441\\u044b \\u043b\\u044e\\u0431\\u0432\\u0438 \\u0441\\u0443\\u043f\\u0440\\u0443\\u0433\\u0438 \\u043f\\u0435\\u0440\\u0435\\u0432\\u0435\\u0448\\u0438\\u0432\\u0430\\u044e\\u0442\\u0441\\u044f \\u0432 \\u0441\\u0442\\u043e\\u0440\\u043e\\u043d\\u0443 \\u0449\\u0435\\u043d\\u043a\\u0430 \\u0430 \\u043c\\u0443\\u0436 \\u043d\\u0438\\u043a\\u0430\\u043a \\u043d\\u0435 \\u043c\\u043e\\u0436\\u0435\\u0442 \\u043c\\u0438\\u0440\\u0438\\u0442\\u044c\\u0441\\u044f \\u0441 \\u0442\\u0430\\u043a\\u0438\\u043c \\u043f\\u043e\\u043b\\u043e\\u0436\\u0435\\u043d\\u0438\\u0435\\u043c \\u0432\\u0435\\u0449\\u0435\\u0439 \\u0441\\u043f\\u0430\\u0442\\u044c \\u0432 \\u043e\\u0434\\u043d\\u043e\\u0439 \\u043f\\u043e\\u0441\\u0442\\u0435\\u043b\\u0438 \\u0441 \\u0432\\u0435\\u0447\\u043d\\u043e \\u043f\\u0443\\u043a\\u0430\\u044e\\u0449\\u0438\\u043c \\u0449\\u0435\\u043d\\u043a\\u043e\\u043c \\u043f\\u043e\\u043d\\u0438\\u043c\\u0430\\u044e \\u043c\\u0435\\u043d\\u044f \\u0431\\u044b \\u0442\\u043e\\u0436\\u0435 \\u0441\\u0442\\u0430\\u043b\\u043e \\u0432\\u043e\\u0440\\u043e\\u0442\\u0438\\u0442\\u044c \\u0432 \\u043e\\u0431\\u0449\\u0435\\u043c \\u0441\\u0443\\u043f\\u0440\\u0443\\u0433\\u0443 \\u043e\\u0441\\u0443\\u0436\\u0434\\u0430\\u044e \\u0444\\u0438\\u043b\\u044c\\u043c \\u0442\\u0435\\u0440\\u043f\\u0435\\u043b\\u0438\\u0432\\u043e \\u043d\\u0430\\u0437\\u044b\\u0432\\u0430\\u044e \\u043f\\u043e\\u0441\\u0440\\u0435\\u0434\\u0441\\u0442\\u0432\\u0435\\u043d\\u043d\\u044b\\u043c \\u0438\\u0437\",\n          \"\\u0435\\u0441\\u0442\\u044c \\u043a\\u0440\\u0430\\u0441\\u0438\\u0432\\u043e\\u0435 \\u0438 \\u0433\\u043e\\u0440\\u044c\\u043a\\u043e\\u0432\\u0430\\u0442\\u043e\\u0435 \\u043d\\u0430 \\u0432\\u043a\\u0443\\u0441 \\u0441\\u0442\\u0438\\u0445\\u043e\\u0442\\u0432\\u043e\\u0440\\u0435\\u043d\\u0438\\u0435 \\u0430 \\u0430\\u0445\\u043c\\u0430\\u0442\\u043e\\u0432\\u043e\\u0439 \\u0435\\u0441\\u0442\\u044c \\u0432 \\u0431\\u043b\\u0438\\u0437\\u043e\\u0441\\u0442\\u0438 \\u043b\\u044e\\u0434\\u0435\\u0439 \\u0437\\u0430\\u0432\\u0435\\u0442\\u043d\\u0430\\u044f \\u0447\\u0435\\u0440\\u0442\\u0430 \\u0435\\u0435 \\u043d\\u0435 \\u043f\\u0435\\u0440\\u0435\\u0439\\u0442\\u0438 \\u0432\\u043b\\u044e\\u0431\\u043b\\u0435\\u043d\\u043d\\u043e\\u0441\\u0442\\u0438 \\u0438 \\u0441\\u0442\\u0440\\u0430\\u0441\\u0442\\u0438 \\u043f\\u0443\\u0441\\u0442\\u044c \\u0432 \\u0436\\u0443\\u0442\\u043a\\u043e\\u0439 \\u0442\\u0438\\u0448\\u0438\\u043d\\u0435 \\u0441\\u043b\\u0438\\u0432\\u0430\\u044e\\u0442\\u0441\\u044f \\u0443\\u0441\\u0442\\u0430 \\u0438 \\u0441\\u0435\\u0440\\u0434\\u0446\\u0435 \\u0440\\u0432\\u0435\\u0442\\u0441\\u044f \\u043e\\u0442 \\u043b\\u044e\\u0431\\u0432\\u0438 \\u043d\\u0430 \\u0447\\u0430\\u0441\\u0442\\u0438 \\u0441\\u0442\\u0440\\u0435\\u043c\\u044f\\u0449\\u0438\\u0435\\u0441\\u044f \\u043a \\u043d\\u0435\\u0439 \\u0431\\u0435\\u0437\\u0443\\u043c\\u043d\\u044b \\u0430 \\u0435\\u0435\\u0434\\u043e\\u0441\\u0442\\u0438\\u0433\\u0448\\u0438\\u0435 \\u043f\\u043e\\u0440\\u0430\\u0436\\u0435\\u043d\\u044b \\u0442\\u043e\\u0441\\u043a\\u043e\\u044e \\u0442\\u0435\\u043f\\u0435\\u0440\\u044c \\u0442\\u044b \\u043f\\u043e\\u043d\\u044f\\u043b \\u043e\\u0442\\u0447\\u0435\\u0433\\u043e \\u043c\\u043e\\u0435\\u043d\\u0435 \\u0431\\u044c\\u0435\\u0442\\u0441\\u044f \\u0441\\u0435\\u0440\\u0434\\u0446\\u0435 \\u043f\\u043e\\u0434 \\u0442\\u0432\\u043e\\u0435\\u0439 \\u0440\\u0443\\u043a\\u043e\\u044e \\u044d\\u0442\\u043e\\u0439 \\u0431\\u043e\\u043b\\u0435\\u0437\\u043d\\u0435\\u043d\\u043d\\u043e\\u0441\\u0442\\u044c\\u044e \\u0441\\u0434\\u0430\\u0432\\u043b\\u0435\\u043d\\u043d\\u044b\\u043c \\u0437\\u0430\\u043a\\u0440\\u0430\\u0448\\u0435\\u043d\\u043d\\u044b\\u043c \\u043d\\u0435\\u0437\\u0434\\u043e\\u0440\\u043e\\u0432\\u044c\\u0435\\u043c \\u0434\\u043b\\u044f \\u043c\\u0435\\u043d\\u044f \\u043d\\u0430\\u043f\\u0438\\u0442\\u0430\\u043d\\u043e \\u0432\\u0441\\u0435 \\u043f\\u0440\\u043e\\u0441\\u0442\\u0440\\u0430\\u043d\\u0441\\u0442\\u0432\\u043e \\u0443 \\u0438 \\u0434\\u044b\\u0445\\u043e\\u0432\\u0438\\u0447\\u043d\\u043e\\u0433\\u043e \\u0431\\u044b\\u0442\\u044c \\u0442\\u0430\\u043a\\u0438\\u043c\\u0438 \\u0441\\u0447\\u0430\\u0441\\u0442\\u043b\\u0438\\u0432\\u044b\\u043c\\u0438 \\u0442\\u0430\\u043a \\u043f\\u0435\\u0440\\u0435\\u043f\\u043b\\u0435\\u0441\\u0442\\u0438\\u0441\\u044c \\u0434\\u0440\\u0443\\u0433 \\u0441 \\u0434\\u0440\\u0443\\u0433\\u043e\\u043c \\u0441\\u0442\\u0430\\u0442\\u044c \\u0442\\u0430\\u043a\\u0438\\u043c\\u0438 \\u0431\\u043b\\u0438\\u0437\\u043a\\u0438\\u043c\\u0438 \\u043a\\u043e\\u0433\\u0434\\u0430 \\u043d\\u0438\\u0447\\u0442\\u043e \\u043d\\u0435 \\u0438\\u0441\\u0442\\u0438\\u043d\\u043d\\u043e \\u043a\\u0440\\u043e\\u043c\\u0435 \\u0435\\u0434\\u0438\\u043d\\u0441\\u0442\\u0432\\u0435\\u043d\\u043d\\u043e\\u0433\\u043e \\u043e\\u0434\\u0438\\u043d \\u0432 \\u0434\\u0440\\u0443\\u0433\\u043e\\u043c \\u0438 \\u0432\\u0434\\u0440\\u0443\\u0433 \\u0437\\u0430\\u0431\\u043b\\u0443\\u0434\\u0438\\u0442\\u044c\\u0441\\u044f \\u0440\\u0430\\u0441\\u0442\\u0435\\u0440\\u044f\\u0442\\u044c\\u0441\\u044f \\u0438\\u0441\\u043a\\u0430\\u0442\\u044c \\u0432 \\u043f\\u0443\\u0441\\u0442\\u044b\\u043d\\u0435 \\u0442\\u0440\\u043e\\u043f\\u0438\\u043d\\u043a\\u0438 \\u043a\\u043e\\u0442\\u043e\\u0440\\u044b\\u0435 \\u043d\\u0438\\u043a\\u043e\\u0433\\u0434\\u0430 \\u043d\\u0435 \\u043f\\u0435\\u0440\\u0435\\u0441\\u0435\\u043a\\u0443\\u0442\\u0441\\u044f \\u043e\\u043d\\u0430 \\u0431\\u043b\\u0443\\u0436\\u0434\\u0430\\u044e\\u0449\\u0430\\u044f \\u0438 \\u0437\\u0430\\u0431\\u043b\\u0443\\u0434\\u0448\\u0430\\u044f \\u043e\\u043d \\u043c\\u0435\\u0447\\u0443\\u0449\\u0438\\u0439\\u0441\\u044f \\u0438 \\u0437\\u0430\\u043f\\u0443\\u0442\\u0430\\u0432\\u0448\\u0438\\u0439\\u0441\\u044f \\u0433\\u043e\\u043b\\u044b\\u0435 \\u0441\\u0435\\u0440\\u043e \\u0437\\u0435\\u043b\\u0435\\u043d\\u044b\\u0435 \\u0441\\u0442\\u0435\\u043d\\u044b \\u043f\\u0443\\u0441\\u0442\\u043e\\u0435 \\u0436\\u0438\\u043b\\u0438\\u0449\\u0435 \\u043f\\u0440\\u0438\\u0447\\u0430\\u043b \\u0441\\u0442\\u0440\\u0430\\u0434\\u0430\\u043d\\u0438\\u044f \\u0437\\u0434\\u0440\\u0430\\u0432\\u0441\\u0442\\u0432\\u0443\\u0439\\u0442\\u0435 \\u0432\\u0435\\u0440\\u0430 \\u044d\\u0442\\u043e \\u043c\\u043e\\u0435 \\u0438\\u043c\\u044f \\u043c\\u0438\\u0445\\u0430\\u0438\\u043b \\u044d\\u0442\\u043e \\u043c\\u043e\\u0435 \\u0438\\u043c\\u044f \\u0431\\u0443\\u0434\\u0435\\u043c \\u0433\\u043e\\u0432\\u043e\\u0440\\u0438\\u0442\\u044c \\u0432 \\u0443\\u0433\\u043b\\u0430\\u0445 \\u0441\\u0442\\u0440\\u0430\\u0445 \\u0445\\u0432\\u0430\\u0442\\u0430\\u044e\\u0449\\u0438\\u0439 \\u0437\\u0430 \\u0436\\u0438\\u0432\\u043e\\u0435 \\u0443\\u0434\\u0443\\u0448\\u0430\\u044e\\u0449\\u0430\\u044f \\u043b\\u0435\\u0434\\u044f\\u043d\\u0430\\u044f \\u0440\\u0443\\u043a\\u0430 \\u0435\\u0433\\u043e \\u043d\\u0430 \\u0433\\u043e\\u0440\\u043b\\u0435 \\u0434\\u0440\\u043e\\u0436\\u044c \\u0440\\u0430\\u0441\\u0441\\u044b\\u043f\\u0430\\u044e\\u0449\\u0438\\u0435\\u0441\\u044f \\u043c\\u043e\\u0437\\u0430\\u0438\\u043a\\u0438 \\u0441\\u043b\\u0435\\u0437 \\u043e\\u0442\\u043a\\u0440\\u043e\\u0432\\u0435\\u043d\\u043d\\u044b \\u0441 \\u0441\\u043e\\u0431\\u043e\\u0439 \\u0438 \\u0434\\u0440\\u0443\\u0433 \\u0434\\u0440\\u0443\\u0433\\u043e\\u043c \\u0441\\u0430\\u043c\\u043e\\u0441\\u043e\\u0437\\u043d\\u0430\\u043d\\u0438\\u0435 \\u0441\\u043f\\u043e\\u043a\\u043e\\u0439\\u043d\\u043e\\u0435 \\u0434\\u043e\\u0441\\u0442\\u043e\\u0438\\u043d\\u0441\\u0442\\u0432\\u043e \\u0438 \\u0447\\u0435\\u0441\\u0442\\u043d\\u043e\\u0441\\u0442\\u044c \\u043a\\u0430\\u043a \\u043d\\u0430 \\u0441\\u043c\\u0435\\u0440\\u0442\\u043d\\u043e\\u043c \\u043e\\u0434\\u0440\\u0435 \\u043f\\u043e\\u0442\\u0435\\u0440\\u044f\\u043d\\u043d\\u043e\\u0441\\u0442\\u044c \\u0438 \\u043e\\u0431\\u0440\\u0435\\u0447\\u0435\\u043d\\u043d\\u043e\\u0441\\u0442\\u044c \\u0438 \\u0441\\u043d\\u043e\\u0432\\u0430 \\u0434\\u043e\\u0441\\u0442\\u043e\\u0438\\u043d\\u0441\\u0442\\u0432\\u043e \\u0441 \\u043a\\u043e\\u0442\\u043e\\u0440\\u044b\\u043c \\u0433\\u043b\\u044f\\u0434\\u044f\\u0442 \\u0432 \\u043b\\u0438\\u0446\\u043e \\u043f\\u0430\\u043b\\u0430\\u0447\\u0430\\u043c \\u043d\\u0430 \\u0440\\u0430\\u0441\\u0441\\u0432\\u0435\\u0442\\u0435 \\u043e\\u043d\\u0438 \\u043f\\u0430\\u043b\\u0430\\u0447\\u0438 \\u0434\\u0440\\u0443\\u0433 \\u0434\\u0440\\u0443\\u0433\\u0430 \\u043e\\u0442\\u043a\\u0440\\u044b\\u0442\\u043e\\u0441\\u0442\\u044c \\u0441\\u043e\\u0431\\u0441\\u0442\\u0432\\u0435\\u043d\\u043d\\u044b\\u0445 \\u0447\\u0443\\u0432\\u0441\\u0442\\u0432 \\u0434\\u043b\\u044f \\u0434\\u0440\\u0443\\u0433\\u043e\\u0433\\u043e \\u0438\\u0445 \\u043a\\u0430\\u0437\\u043d\\u044c \\u043a\\u0430\\u0436\\u0434\\u043e\\u0435 \\u0441\\u043b\\u043e\\u0432\\u043e \\u0443\\u043c\\u0435\\u0440\\u0449\\u0432\\u043b\\u044f\\u0435\\u0442 \\u0438\\u043b\\u043b\\u044e\\u0437\\u043e\\u0440\\u043d\\u043e\\u0441\\u0442\\u044c \\u0431\\u044b\\u043b\\u043e\\u0439 \\u0447\\u0438\\u0441\\u0442\\u043e\\u0442\\u044b \\u043e\\u043d\\u0438 \\u0434\\u0440\\u0443\\u0433 \\u0434\\u043b\\u044f \\u0434\\u0440\\u0443\\u0433\\u0430 \\u0441\\u043e\\u0442\\u043a\\u0430\\u043d\\u044b \\u0438\\u0437 \\u043e\\u0442\\u043a\\u0440\\u044b\\u0442\\u0438\\u0439 \\u043a\\u043e\\u0442\\u043e\\u0440\\u044b\\u0435 \\u0442\\u044f\\u0436\\u0435\\u043b\\u044b \\u043e\\u0442 \\u043a\\u0430\\u0436\\u0434\\u043e\\u0433\\u043e \\u043f\\u0435\\u0440\\u0435\\u0434\\u0435\\u0440\\u0433\\u0438\\u0432\\u0430\\u0435\\u0442 \\u0432\\u043d\\u0443\\u0442\\u0440\\u0435\\u043d\\u043d\\u043e\\u0441\\u0442\\u0438 \\u0438 \\u0442\\u0440\\u0443\\u0434\\u043d\\u043e \\u0434\\u044b\\u0448\\u0430\\u0442\\u044c \\u043d\\u0435\\u0432\\u044b\\u043d\\u043e\\u0441\\u0438\\u043c\\u043e \\u043e\\u0441\\u043e\\u0437\\u043d\\u0430\\u0442\\u044c \\u0435\\u0449\\u0435 \\u0441\\u0442\\u0440\\u0430\\u0448\\u043d\\u0435\\u0435 \\u043f\\u043e\\u043d\\u044f\\u0442\\u044c \\u044f \\u043d\\u0430 \\u044d\\u0442\\u043e \\u043d\\u0430\\u0442\\u043a\\u043d\\u0443\\u043b\\u0430\\u0441\\u044c \\u0441\\u043b\\u0443\\u0447\\u0430\\u0439\\u043d\\u043e \\u0438 \\u0441 \\u0442\\u0435\\u0445 \\u043f\\u043e\\u0440 \\u0432\\u0441\\u0435 \\u043a\\u0430\\u043a \\u0431\\u0443\\u0434\\u0442\\u043e \\u0431\\u043e\\u043b\\u044c\\u043d\\u0430 \\u0440\\u0430\\u0437\\u0433\\u043e\\u0432\\u043e\\u0440 \\u0447\\u0435\\u0440\\u0435\\u0434\\u0430 \\u043d\\u0435\\u043f\\u0440\\u0435\\u043a\\u0440\\u0430\\u0449\\u0430\\u044e\\u0449\\u0438\\u0445\\u0441\\u044f \\u043c\\u043e\\u043d\\u043e\\u043b\\u043e\\u0433\\u043e\\u0432 \\u044f \\u043c\\u043d\\u0435 \\u0431\\u044b\\u043b\\u043e \\u043f\\u043e\\u043c\\u043d\\u044e \\u043f\\u043e\\u0447\\u0443\\u0432\\u0441\\u0442\\u0432\\u043e\\u0432\\u0430\\u043b \\u044f \\u0442\\u0430\\u043a \\u0445\\u043e\\u0447\\u0443 \\u043a\\u0430\\u0436\\u0434\\u043e\\u0435 \\u043f\\u0435\\u0440\\u0435\\u0441\\u0435\\u0447\\u0435\\u043d\\u0438\\u0435 \\u0438\\u0445 \\u0437\\u0430\\u0433\\u043b\\u0443\\u0448\\u0430\\u0435\\u043c\\u044b\\u0439 \\u0438\\u0441\\u0442\\u043e\\u0448\\u043d\\u044b\\u0439 \\u0432\\u043e\\u043f\\u043b\\u044c \\u043a\\u0430\\u043a \\u0431\\u0443\\u0434\\u0442\\u043e \\u0431\\u044b \\u0436\\u0435\\u043b\\u0435\\u0437\\u043e\\u043c \\u043e\\u0431\\u043c\\u043e\\u043a\\u043d\\u0443\\u0442\\u044b\\u043c \\u0432 \\u0441\\u0443\\u0440\\u044c\\u043c\\u0443 \\u0442\\u0435\\u0431\\u044f \\u0432\\u0435\\u043b\\u0438 \\u043d\\u0430\\u0440\\u0435\\u0437\\u043e\\u043c \\u043f\\u043e \\u0441\\u0435\\u0440\\u0434\\u0446\\u0443 \\u043c\\u043e\\u0435\\u043c\\u0443 \\u043b\\u044e\\u0431\\u043e\\u0432\\u044c \\u0432\\u043c\\u0435\\u0448\\u0430\\u043d\\u043d\\u0430\\u044f \\u0432 \\u0431\\u043e\\u043b\\u044c \\u0431\\u043e\\u043b\\u044c \\u0432\\u043c\\u0435\\u0448\\u0430\\u043d\\u043d\\u0430\\u044f \\u0432 \\u043b\\u044e\\u0431\\u043e\\u0432\\u044c \\u0435\\u0435 \\u043e\\u0431\\u043d\\u0430\\u0436\\u0435\\u043d\\u043d\\u0430\\u044f \\u0433\\u043e\\u043b\\u043e\\u0432\\u0430 \\u0441\\u043e\\u0434\\u0440\\u0430\\u043d\\u043d\\u0430\\u044f \\u043a\\u043e\\u0436\\u0430 \\u043e\\u0433\\u043e\\u043b\\u0435\\u043d\\u043d\\u044b\\u0435 \\u043f\\u0440\\u043e\\u0432\\u043e\\u0434\\u0430 \\u0441\\u0442\\u0440\\u0430\\u0448\\u043d\\u043e \\u043f\\u0440\\u0438\\u043a\\u043e\\u0441\\u043d\\u0443\\u0442\\u044c\\u0441\\u044f \\u043c\\u0443\\u0447\\u0438\\u0442\\u0435\\u043b\\u044c\\u043d\\u043e \\u043d\\u043e \\u043d\\u0435\\u0432\\u043e\\u0437\\u043c\\u043e\\u0436\\u043d\\u043e \\u044d\\u0442\\u043e\\u0433\\u043e \\u043d\\u0435 \\u0441\\u0434\\u0435\\u043b\\u0430\\u0442\\u044c \\u044f \\u0441\\u0435\\u0439\\u0447\\u0430\\u0441 \\u0441\\u043b\\u044b\\u0448\\u0443 \\u0442\\u0432\\u043e\\u0439 \\u043a\\u0440\\u0438\\u043a \\u044f \\u0441\\u0435\\u0439\\u0447\\u0430\\u0441 \\u043a\\u0440\\u0438\\u0447\\u0443 \\u0441\\u0430\\u043c\\u0430 \\u043a\\u0430\\u043a \\u0436\\u0435 \\u043d\\u0430\\u043c \\u0443\\u0441\\u043b\\u044b\\u0448\\u0430\\u0442\\u044c \\u0434\\u0440\\u0443\\u0433 \\u0434\\u0440\\u0443\\u0433\\u0430 \\u043e\\u043d\\u0438 \\u043e\\u0431\\u043c\\u0435\\u043d\\u044f\\u043b\\u0438\\u0441\\u044c \\u043f\\u0435\\u0440\\u0435\\u043b\\u0438\\u0432\\u0430\\u044e\\u0449\\u0438\\u043c\\u0438\\u0441\\u044f \\u0440\\u0430\\u043d\\u044f\\u0449\\u0438\\u043c\\u0438 \\u0441\\u0442\\u0435\\u043a\\u043b\\u044f\\u043d\\u043d\\u044b\\u043c\\u0438 \\u0448\\u0430\\u0440\\u0430\\u043c\\u0438 \\u0443\\u0434\\u043e\\u0432\\u043e\\u043b\\u044c\\u0441\\u0442\\u0432\\u0438\\u0439 \\u0434\\u0440\\u0443\\u0433 \\u0434\\u0440\\u0443\\u0433\\u0430 \\u0443\\u0434\\u043e\\u0432\\u043e\\u043b\\u044c\\u0441\\u0442\\u0432\\u0438\\u044f \\u043a\\u043e\\u0442\\u043e\\u0440\\u043e\\u0435 \\u043f\\u0440\\u043e\\u0442\\u0438\\u0432\\u043e\\u0440\\u0435\\u0447\\u0438\\u0432\\u043e \\u043f\\u0440\\u043e\\u0442\\u0438\\u0432\\u043e\\u043f\\u0440\\u0430\\u0432\\u043d\\u043e \\u0432\\u043e\\u043f\\u0440\\u0435\\u043a\\u0438 \\u043e\\u043d \\u0443\\u0437\\u043d\\u0430\\u0435\\u0442 \\u043e \\u043d\\u0435\\u0447\\u0430\\u044f\\u043d\\u043d\\u043e\\u0439 \\u0441\\u043b\\u0430\\u0434\\u043e\\u0441\\u0442\\u0438 \\u043f\\u0440\\u043e\\u0434\\u0430\\u043d\\u043d\\u044b\\u0445 \\u043f\\u043e\\u0446\\u0435\\u043b\\u0443\\u0435\\u0432 \\u043e \\u043c\\u043e\\u0449\\u043d\\u043e\\u0439 \\u0432\\u043e\\u043b\\u043d\\u0435 \\u043d\\u0430\\u043a\\u0440\\u044b\\u0432\\u0430\\u044e\\u0449\\u0435\\u0439 \\u043f\\u0440\\u0438 \\u0432\\u0441\\u043b\\u0443\\u0448\\u0438\\u0432\\u0430\\u043d\\u0438\\u0438 \\u0432 \\u0448\\u0435\\u043b\\u0435\\u0441\\u0442 \\u0447\\u0443\\u0436\\u0438\\u0445 \\u0440\\u0443\\u043a \\u043f\\u043e \\u0435\\u0435 \\u043a\\u043e\\u0436\\u0435 \\u043e \\u0435\\u0435 \\u0433\\u0440\\u0430\\u043d\\u0438\\u0446\\u0430\\u0445 \\u0437\\u0430\\u043a\\u0440\\u0435\\u043f\\u043e\\u0449\\u0435\\u043d\\u0438\\u044f \\u0438 \\u0440\\u0430\\u0441\\u043a\\u0440\\u0435\\u043f\\u043e\\u0449\\u0435\\u043d\\u0438\\u044f \\u043e\\u043d\\u0430 \\u0443\\u0437\\u043d\\u0430\\u0435\\u0442 \\u043e \\u0442\\u044f\\u0433\\u043e\\u0441\\u0442\\u0438 \\u0447\\u0438\\u0441\\u0442\\u043e\\u0442\\u044b \\u043e \\u043f\\u043e\\u0441\\u0442\\u043e\\u044f\\u043d\\u043d\\u043e\\u043c \\u043d\\u0430\\u043b\\u0438\\u0447\\u0438\\u0438 \\u0431\\u0435\\u0437\\u0434\\u0432\\u0438\\u0436\\u043d\\u043e\\u0439 \\u043f\\u0443\\u0441\\u0442\\u043e\\u0442\\u044b \\u0432 \\u0435\\u0433\\u043e \\u0440\\u0430\\u0437\\u0440\\u043e\\u0441\\u0448\\u0435\\u043c\\u0441\\u044f \\u0441\\u0435\\u0440\\u0434\\u0446\\u0435 \\u0441\\u043e\\u0437\\u043d\\u0430\\u043d\\u0438\\u0438 \\u043e \\u043f\\u043e\\u0438\\u0441\\u043a\\u0430\\u0445 \\u0441\\u0435\\u043a\\u0443\\u043d\\u0434 \\u0444\\u043e\\u043d\\u0442\\u0430\\u043d\\u0438\\u0440\\u0443\\u044e\\u0449\\u0438\\u0445 \\u043e\\u0449\\u0443\\u0449\\u0435\\u043d\\u0438\\u044f\\u043c\\u0438 \\u043e \\u0436\\u0443\\u0442\\u043a\\u043e\\u043c \\u043d\\u0438 \\u0441 \\u0447\\u0435\\u043c \\u043d\\u0435 \\u0441\\u0440\\u0430\\u0432\\u043d\\u0438\\u043c\\u043e\\u043c \\u0443\\u0434\\u043e\\u0432\\u043e\\u043b\\u044c\\u0441\\u0442\\u0432\\u0438\\u0438 \\u0433\\u0443\\u0431\\u0438\\u0442\\u044c \\u043a\\u043e\\u0433\\u043e \\u0442\\u043e \\u0440\\u0430\\u0437\\u0440\\u0443\\u0448\\u0430\\u0442\\u044c \\u0443\\u0431\\u0435\\u0433\\u0430\\u0442\\u044c \\u0440\\u0430\\u0437\\u0440\\u044b\\u0432\\u0430\\u0442\\u044c \\u043e \\u0435\\u0433\\u043e \\u0433\\u0440\\u0430\\u043d\\u0438\\u0446\\u0430\\u0445 \\u0437\\u0430\\u043a\\u0440\\u0435\\u043f\\u043e\\u0449\\u0435\\u043d\\u0438\\u044f \\u0438 \\u0440\\u0430\\u0441\\u043a\\u0440\\u0435\\u043f\\u043e\\u0449\\u0435\\u043d\\u0438\\u044f \\u043c\\u043e\\u0436\\u0435\\u0448\\u044c \\u0432\\u043e\\u0434\\u0438\\u0442\\u044c \\u0436\\u0435\\u043b\\u0435\\u0437\\u043e\\u043c \\u043f\\u043e \\u0441\\u0442\\u0435\\u043a\\u043b\\u0443 \\u043c\\u043e\\u0436\\u0435\\u0448\\u044c \\u0432\\u044b\\u0434\\u0430\\u0432\\u0438\\u0442\\u044c \\u0441\\u0435\\u0431\\u0435 \\u0433\\u043b\\u0430\\u0437\\u0430 \\u043c\\u043e\\u0436\\u0435\\u0448\\u044c \\u0437\\u0430\\u0448\\u0438\\u0442\\u044c \\u0431\\u0435\\u043b\\u043e\\u0439 \\u043d\\u0438\\u0442\\u043a\\u043e\\u0439 \\u0443\\u0448\\u0438 \\u0432\\u0441\\u0435 \\u043d\\u0435\\u0438\\u0437\\u043c\\u0435\\u043d\\u043d\\u043e \\u044f \\u0432\\u0441\\u0435 \\u0440\\u0430\\u0432\\u043d\\u043e \\u043e\\u0441\\u0442\\u0430\\u043d\\u0443\\u0441\\u044c \\u0442\\u0430\\u043a\\u043e\\u0439 \\u0442\\u0430\\u043a\\u0438\\u043c \\u043a\\u0430\\u043a\\u043e\\u0439 \\u043a\\u0430\\u043a\\u0438\\u043c \\u0441\\u044e\\u0434\\u0430 \\u044f\\u0432\\u0438\\u043b\\u0430\\u0441\\u044c \\u044f\\u0432\\u0438\\u043b\\u0441\\u044f \\u043d\\u0430\\u0441\\u0442\\u043e\\u044f\\u0449\\u0435\\u0439 \\u043d\\u0430\\u0441\\u0442\\u043e\\u044f\\u0449\\u0438\\u043c \\u0441\\u0442\\u0440\\u0430\\u0434\\u0430\\u044e\\u0449\\u0435\\u0439 \\u0441\\u0442\\u0440\\u0430\\u0434\\u0430\\u044e\\u0449\\u0438\\u043c \\u0436\\u0438\\u0432\\u043e\\u0439 \\u0436\\u0438\\u0432\\u044b\\u043c \\u043d\\u0435\\u0442 \\u043c\\u0443\\u0436\\u0447\\u0438\\u043d\\u044b \\u0438 \\u0436\\u0435\\u043d\\u0449\\u0438\\u043d\\u044b \\u043a\\u0430\\u043a\\u043e\\u0435 \\u0442\\u0430\\u043c \\u0435\\u0441\\u0442\\u044c \\u0434\\u0432\\u0430 \\u0447\\u0435\\u043b\\u043e\\u0432\\u0435\\u043a\\u0430 \\u043f\\u0440\\u043e\\u0448\\u0435\\u0434\\u0448\\u0438\\u0435 \\u043a\\u0440\\u0435\\u0449\\u0435\\u043d\\u0438\\u0435 \\u043e\\u0442\\u043a\\u0440\\u043e\\u0432\\u0435\\u043d\\u0438\\u0435\\u043c\"\n        ],\n        \"semantic_type\": \"\",\n        \"description\": \"\"\n      }\n    },\n    {\n      \"column\": \"label\",\n      \"properties\": {\n        \"dtype\": \"category\",\n        \"num_unique_values\": 2,\n        \"samples\": [\n          \"neu\",\n          \"pos\"\n        ],\n        \"semantic_type\": \"\",\n        \"description\": \"\"\n      }\n    }\n  ]\n}"
            }
          },
          "metadata": {},
          "execution_count": 35
        }
      ],
      "source": [
        "df.sample(5)"
      ]
    },
    {
      "cell_type": "markdown",
      "metadata": {
        "id": "4P76ZHlPk3UG"
      },
      "source": [
        "Количество уникальных классов"
      ]
    },
    {
      "cell_type": "code",
      "execution_count": null,
      "metadata": {
        "colab": {
          "base_uri": "https://localhost:8080/",
          "height": 210
        },
        "id": "tRotLndZkhBp",
        "outputId": "09e5eeb6-5d17-4eb6-fc12-6beff55834d9"
      },
      "outputs": [
        {
          "output_type": "execute_result",
          "data": {
            "text/plain": [
              "label\n",
              "pos    20000\n",
              "neu    20000\n",
              "neg    19827\n",
              "Name: count, dtype: int64"
            ],
            "text/html": [
              "<div>\n",
              "<style scoped>\n",
              "    .dataframe tbody tr th:only-of-type {\n",
              "        vertical-align: middle;\n",
              "    }\n",
              "\n",
              "    .dataframe tbody tr th {\n",
              "        vertical-align: top;\n",
              "    }\n",
              "\n",
              "    .dataframe thead th {\n",
              "        text-align: right;\n",
              "    }\n",
              "</style>\n",
              "<table border=\"1\" class=\"dataframe\">\n",
              "  <thead>\n",
              "    <tr style=\"text-align: right;\">\n",
              "      <th></th>\n",
              "      <th>count</th>\n",
              "    </tr>\n",
              "    <tr>\n",
              "      <th>label</th>\n",
              "      <th></th>\n",
              "    </tr>\n",
              "  </thead>\n",
              "  <tbody>\n",
              "    <tr>\n",
              "      <th>pos</th>\n",
              "      <td>20000</td>\n",
              "    </tr>\n",
              "    <tr>\n",
              "      <th>neu</th>\n",
              "      <td>20000</td>\n",
              "    </tr>\n",
              "    <tr>\n",
              "      <th>neg</th>\n",
              "      <td>19827</td>\n",
              "    </tr>\n",
              "  </tbody>\n",
              "</table>\n",
              "</div><br><label><b>dtype:</b> int64</label>"
            ]
          },
          "metadata": {},
          "execution_count": 36
        }
      ],
      "source": [
        "df['label'].value_counts()"
      ]
    },
    {
      "cell_type": "markdown",
      "metadata": {
        "id": "j3PcZdDAzS2U"
      },
      "source": [
        "Проверка на пропуски"
      ]
    },
    {
      "cell_type": "code",
      "execution_count": null,
      "metadata": {
        "colab": {
          "base_uri": "https://localhost:8080/",
          "height": 147
        },
        "id": "kXRZya9VzM3j",
        "outputId": "bae3c861-6fad-42a6-e981-5eb1c30130d6"
      },
      "outputs": [
        {
          "output_type": "execute_result",
          "data": {
            "text/plain": [
              "text     0\n",
              "label    0\n",
              "dtype: int64"
            ],
            "text/html": [
              "<div>\n",
              "<style scoped>\n",
              "    .dataframe tbody tr th:only-of-type {\n",
              "        vertical-align: middle;\n",
              "    }\n",
              "\n",
              "    .dataframe tbody tr th {\n",
              "        vertical-align: top;\n",
              "    }\n",
              "\n",
              "    .dataframe thead th {\n",
              "        text-align: right;\n",
              "    }\n",
              "</style>\n",
              "<table border=\"1\" class=\"dataframe\">\n",
              "  <thead>\n",
              "    <tr style=\"text-align: right;\">\n",
              "      <th></th>\n",
              "      <th>0</th>\n",
              "    </tr>\n",
              "  </thead>\n",
              "  <tbody>\n",
              "    <tr>\n",
              "      <th>text</th>\n",
              "      <td>0</td>\n",
              "    </tr>\n",
              "    <tr>\n",
              "      <th>label</th>\n",
              "      <td>0</td>\n",
              "    </tr>\n",
              "  </tbody>\n",
              "</table>\n",
              "</div><br><label><b>dtype:</b> int64</label>"
            ]
          },
          "metadata": {},
          "execution_count": 37
        }
      ],
      "source": [
        "df.isnull().sum()"
      ]
    },
    {
      "cell_type": "markdown",
      "metadata": {
        "id": "li1OzkKvzVtK"
      },
      "source": [
        "Проверка на дубликаты"
      ]
    },
    {
      "cell_type": "code",
      "execution_count": null,
      "metadata": {
        "colab": {
          "base_uri": "https://localhost:8080/"
        },
        "id": "Ee1q_-PozXjo",
        "outputId": "41f94afd-5b07-4bee-8bb3-a68362ad737f"
      },
      "outputs": [
        {
          "output_type": "execute_result",
          "data": {
            "text/plain": [
              "np.int64(41)"
            ]
          },
          "metadata": {},
          "execution_count": 38
        }
      ],
      "source": [
        "df['text'].duplicated().sum()"
      ]
    },
    {
      "cell_type": "code",
      "execution_count": null,
      "metadata": {
        "colab": {
          "base_uri": "https://localhost:8080/"
        },
        "id": "o0LrhUwvzhWv",
        "outputId": "b75823aa-8fa7-4cc7-ccbc-68ec0b8fd78b"
      },
      "outputs": [
        {
          "output_type": "execute_result",
          "data": {
            "text/plain": [
              "np.int64(0)"
            ]
          },
          "metadata": {},
          "execution_count": 39
        }
      ],
      "source": [
        "df.drop_duplicates(subset='text', inplace=True)\n",
        "df['text'].duplicated().sum()"
      ]
    },
    {
      "cell_type": "markdown",
      "metadata": {
        "id": "XHFVtGJClBer"
      },
      "source": [
        "Средняя длина текста, распределение длин"
      ]
    },
    {
      "cell_type": "code",
      "execution_count": null,
      "metadata": {
        "colab": {
          "base_uri": "https://localhost:8080/",
          "height": 335
        },
        "id": "YZ7qrD85kwx8",
        "outputId": "ef85749f-0a43-4330-b2d6-221d2a2193f1"
      },
      "outputs": [
        {
          "output_type": "execute_result",
          "data": {
            "text/plain": [
              "count    59786.000000\n",
              "mean       335.308484\n",
              "std        200.255485\n",
              "min          8.000000\n",
              "25%        191.000000\n",
              "50%        288.000000\n",
              "75%        431.000000\n",
              "max       2059.000000\n",
              "Name: text, dtype: float64"
            ],
            "text/html": [
              "<div>\n",
              "<style scoped>\n",
              "    .dataframe tbody tr th:only-of-type {\n",
              "        vertical-align: middle;\n",
              "    }\n",
              "\n",
              "    .dataframe tbody tr th {\n",
              "        vertical-align: top;\n",
              "    }\n",
              "\n",
              "    .dataframe thead th {\n",
              "        text-align: right;\n",
              "    }\n",
              "</style>\n",
              "<table border=\"1\" class=\"dataframe\">\n",
              "  <thead>\n",
              "    <tr style=\"text-align: right;\">\n",
              "      <th></th>\n",
              "      <th>text</th>\n",
              "    </tr>\n",
              "  </thead>\n",
              "  <tbody>\n",
              "    <tr>\n",
              "      <th>count</th>\n",
              "      <td>59786.000000</td>\n",
              "    </tr>\n",
              "    <tr>\n",
              "      <th>mean</th>\n",
              "      <td>335.308484</td>\n",
              "    </tr>\n",
              "    <tr>\n",
              "      <th>std</th>\n",
              "      <td>200.255485</td>\n",
              "    </tr>\n",
              "    <tr>\n",
              "      <th>min</th>\n",
              "      <td>8.000000</td>\n",
              "    </tr>\n",
              "    <tr>\n",
              "      <th>25%</th>\n",
              "      <td>191.000000</td>\n",
              "    </tr>\n",
              "    <tr>\n",
              "      <th>50%</th>\n",
              "      <td>288.000000</td>\n",
              "    </tr>\n",
              "    <tr>\n",
              "      <th>75%</th>\n",
              "      <td>431.000000</td>\n",
              "    </tr>\n",
              "    <tr>\n",
              "      <th>max</th>\n",
              "      <td>2059.000000</td>\n",
              "    </tr>\n",
              "  </tbody>\n",
              "</table>\n",
              "</div><br><label><b>dtype:</b> float64</label>"
            ]
          },
          "metadata": {},
          "execution_count": 40
        }
      ],
      "source": [
        "df['text'].str.split().str.len().describe()"
      ]
    },
    {
      "cell_type": "markdown",
      "source": [
        "Большинство текстов относительно короткие (около 300 слов), но есть и как очень длинные (около 2000 слов), так и очень короткие (менее 10)."
      ],
      "metadata": {
        "id": "fwyr0JRiUlkX"
      }
    },
    {
      "cell_type": "code",
      "execution_count": null,
      "metadata": {
        "id": "5MG9r-UztQcA"
      },
      "outputs": [],
      "source": [
        "import seaborn as sns\n",
        "import matplotlib.pyplot as plt"
      ]
    },
    {
      "cell_type": "code",
      "execution_count": null,
      "metadata": {
        "colab": {
          "base_uri": "https://localhost:8080/",
          "height": 526
        },
        "id": "zhumftratXMb",
        "outputId": "c894d927-cd3d-46b5-ad56-602e11e12df7"
      },
      "outputs": [
        {
          "output_type": "display_data",
          "data": {
            "text/plain": [
              "<Figure size 1000x600 with 1 Axes>"
            ],
            "image/png": "[encoded data removed]"
          },
          "metadata": {}
        }
      ],
      "source": [
        "df['word_count'] = df['text'].str.split().str.len()\n",
        "plt.figure(figsize=(10, 6))\n",
        "sns.boxplot(data=df, y='word_count')\n",
        "plt.title('Boxplot количества слов в текстах')\n",
        "plt.ylabel('Количество слов')\n",
        "plt.show()"
      ]
    },
    {
      "cell_type": "code",
      "execution_count": null,
      "metadata": {
        "colab": {
          "base_uri": "https://localhost:8080/",
          "height": 564
        },
        "id": "Lzy4aZebwDro",
        "outputId": "8dfd33a3-c475-43c9-8f18-5566a757f1a1"
      },
      "outputs": [
        {
          "output_type": "display_data",
          "data": {
            "text/plain": [
              "<Figure size 1200x600 with 1 Axes>"
            ],
            "image/png": "[encoded data removed]"
          },
          "metadata": {}
        }
      ],
      "source": [
        "plt.figure(figsize=(12, 6))\n",
        "sns.histplot(data=df, x='word_count', bins=30, kde=True)\n",
        "plt.title('Распределение количества слов в текстах')\n",
        "plt.xlabel('Количество слов')\n",
        "plt.ylabel('Частота')\n",
        "plt.show()"
      ]
    },
    {
      "cell_type": "markdown",
      "source": [
        "Для большего единообразия обучающей выборки удалим слишком длинные и слишком короткие тексты (более 700 и менее 50 слов)"
      ],
      "metadata": {
        "id": "7rnlba_XU1Nn"
      }
    },
    {
      "cell_type": "code",
      "execution_count": null,
      "metadata": {
        "id": "CpIGnwRGKYOU"
      },
      "outputs": [],
      "source": [
        "X_train, X_test, y_train, y_test = train_test_split(\n",
        "    df['text'],\n",
        "    df['label'],\n",
        "    test_size=0.2,\n",
        "    random_state=42,\n",
        "    stratify=df[\"label\"]\n",
        ")"
      ]
    },
    {
      "cell_type": "code",
      "execution_count": null,
      "metadata": {
        "colab": {
          "base_uri": "https://localhost:8080/"
        },
        "id": "6S1ocaPIxKSC",
        "outputId": "9ca5ef08-5b44-4746-9020-cf728059b45b"
      },
      "outputs": [
        {
          "output_type": "stream",
          "name": "stdout",
          "text": [
            "Было записей: 47828\n",
            "Осталось записей: 44265\n"
          ]
        }
      ],
      "source": [
        "mask_to_remove = (X_train.str.split().str.len() < 50) | (X_train.str.split().str.len() > 700)\n",
        "\n",
        "X_train_cleaned = X_train[~mask_to_remove]\n",
        "y_train_cleaned = y_train[~mask_to_remove]\n",
        "\n",
        "print(f\"Было записей: {len(X_train)}\")\n",
        "print(f\"Осталось записей: {len(X_train_cleaned)}\")"
      ]
    },
    {
      "cell_type": "code",
      "execution_count": null,
      "metadata": {
        "colab": {
          "base_uri": "https://localhost:8080/",
          "height": 241
        },
        "id": "m0WQnbk9MnXj",
        "outputId": "02f08d9a-cceb-41c3-9e3b-20f395e3ad11"
      },
      "outputs": [
        {
          "output_type": "execute_result",
          "data": {
            "text/plain": [
              "10401    джейсон стетхэм это уже массовая тенденция в и...\n",
              "6161     в современном кинематографе не так уж и много ...\n",
              "13012    сноуден биографическая драма о человеке открыв...\n",
              "14475    странная вспыльчивая несчастная добрая милая с...\n",
              "10138    в последнее время попадаю на женские боевики п...\n",
              "Name: text, dtype: object"
            ],
            "text/html": [
              "<div>\n",
              "<style scoped>\n",
              "    .dataframe tbody tr th:only-of-type {\n",
              "        vertical-align: middle;\n",
              "    }\n",
              "\n",
              "    .dataframe tbody tr th {\n",
              "        vertical-align: top;\n",
              "    }\n",
              "\n",
              "    .dataframe thead th {\n",
              "        text-align: right;\n",
              "    }\n",
              "</style>\n",
              "<table border=\"1\" class=\"dataframe\">\n",
              "  <thead>\n",
              "    <tr style=\"text-align: right;\">\n",
              "      <th></th>\n",
              "      <th>text</th>\n",
              "    </tr>\n",
              "  </thead>\n",
              "  <tbody>\n",
              "    <tr>\n",
              "      <th>10401</th>\n",
              "      <td>джейсон стетхэм это уже массовая тенденция в и...</td>\n",
              "    </tr>\n",
              "    <tr>\n",
              "      <th>6161</th>\n",
              "      <td>в современном кинематографе не так уж и много ...</td>\n",
              "    </tr>\n",
              "    <tr>\n",
              "      <th>13012</th>\n",
              "      <td>сноуден биографическая драма о человеке открыв...</td>\n",
              "    </tr>\n",
              "    <tr>\n",
              "      <th>14475</th>\n",
              "      <td>странная вспыльчивая несчастная добрая милая с...</td>\n",
              "    </tr>\n",
              "    <tr>\n",
              "      <th>10138</th>\n",
              "      <td>в последнее время попадаю на женские боевики п...</td>\n",
              "    </tr>\n",
              "  </tbody>\n",
              "</table>\n",
              "</div><br><label><b>dtype:</b> object</label>"
            ]
          },
          "metadata": {},
          "execution_count": 45
        }
      ],
      "source": [
        "X_train_cleaned.head()"
      ]
    },
    {
      "cell_type": "markdown",
      "metadata": {
        "id": "FJG6BnjjbkN9"
      },
      "source": [
        "# Классификация по 3 категориям"
      ]
    },
    {
      "cell_type": "code",
      "execution_count": null,
      "metadata": {
        "id": "vvUO2GnPlzRt"
      },
      "outputs": [],
      "source": [
        "!pip install tensorflow"
      ]
    },
    {
      "cell_type": "code",
      "execution_count": null,
      "metadata": {
        "id": "hMPk85wataiC"
      },
      "outputs": [],
      "source": [
        "!pip install fasttext"
      ]
    },
    {
      "cell_type": "markdown",
      "source": [
        "Для векторизации используем готовую модель FastText."
      ],
      "metadata": {
        "id": "ySpBScIoWWIV"
      }
    },
    {
      "cell_type": "code",
      "execution_count": null,
      "metadata": {
        "id": "Kx1cdrLwt09I",
        "colab": {
          "base_uri": "https://localhost:8080/"
        },
        "outputId": "70ba0430-ef61-4427-be3a-7e119628c429"
      },
      "outputs": [
        {
          "output_type": "stream",
          "name": "stdout",
          "text": [
            "Downloading https://dl.fbaipublicfiles.com/fasttext/vectors-crawl/cc.ru.300.bin.gz\n"
          ]
        }
      ],
      "source": [
        "import fasttext\n",
        "import fasttext.util\n",
        "\n",
        "fasttext.util.download_model('ru', if_exists='ignore')\n",
        "ft_model = fasttext.load_model(\"cc.ru.300.bin\")"
      ]
    },
    {
      "cell_type": "code",
      "source": [
        "import torch\n",
        "import torch.nn as nn\n",
        "import torch.optim as optim\n",
        "from torch.utils.data import Dataset, DataLoader\n",
        "from sklearn.preprocessing import LabelEncoder\n",
        "from sklearn.metrics import accuracy_score, precision_recall_fscore_support\n",
        "from tqdm import tqdm\n",
        "import numpy as np\n",
        "import random\n",
        "\n",
        "\n",
        "# Фиксация seed\n",
        "\n",
        "def set_seed(seed=42):\n",
        "    random.seed(seed)\n",
        "    np.random.seed(seed)\n",
        "    torch.manual_seed(seed)\n",
        "    torch.cuda.manual_seed_all(seed)\n",
        "    torch.backends.cudnn.deterministic = True\n",
        "    torch.backends.cudnn.benchmark = False\n",
        "\n",
        "set_seed(42)\n",
        "\n",
        "\n",
        "le = LabelEncoder()\n",
        "y_train_enc = le.fit_transform(y_train_cleaned)\n",
        "y_test_enc = le.transform(y_test)\n",
        "num_classes = len(le.classes_)\n",
        "\n",
        "X_train_cleaned = list(X_train_cleaned)\n",
        "y_train_enc = np.array(y_train_enc)\n",
        "X_test = list(X_test)\n",
        "y_test_enc = np.array(y_test_enc)\n",
        "\n",
        "\n",
        "embedding_dim = ft_model.get_word_vector(\"тест\").shape[0]\n",
        "max_len = 100\n",
        "batch_size = 32\n",
        "device = torch.device(\"cuda\" if torch.cuda.is_available() else \"cpu\")\n",
        "\n",
        "\n",
        "class FastTextDataset(Dataset):\n",
        "    def __init__(self, texts, labels, ft_model, max_len):\n",
        "        self.texts = texts\n",
        "        self.labels = labels\n",
        "        self.ft_model = ft_model\n",
        "        self.max_len = max_len\n",
        "        self.embedding_dim = ft_model.get_word_vector(\"test\").shape[0]\n",
        "\n",
        "    def __len__(self):\n",
        "        return len(self.texts)\n",
        "\n",
        "    def __getitem__(self, idx):\n",
        "        text = self.texts[idx]\n",
        "        label = self.labels[idx]\n",
        "        X = np.zeros((self.max_len, self.embedding_dim), dtype=np.float32)\n",
        "        words = text.split()\n",
        "        for i, w in enumerate(words[:self.max_len]):\n",
        "            X[i] = self.ft_model.get_word_vector(w)\n",
        "        return torch.tensor(X), torch.tensor(label, dtype=torch.long)\n",
        "\n",
        "train_dataset = FastTextDataset(X_train_cleaned, y_train_enc, ft_model, max_len)\n",
        "test_dataset = FastTextDataset(X_test, y_test_enc, ft_model, max_len)\n",
        "\n",
        "train_loader = DataLoader(train_dataset, batch_size=batch_size, shuffle=True)\n",
        "test_loader = DataLoader(test_dataset, batch_size=batch_size, shuffle=False)\n",
        "\n",
        "\n",
        "# Добавлена ранняя остановка\n",
        "\n",
        "class EarlyStopping:\n",
        "    def __init__(self, patience=3, min_delta=1e-4):\n",
        "        self.patience = patience\n",
        "        self.min_delta = min_delta\n",
        "        self.best_loss = float('inf')\n",
        "        self.counter = 0\n",
        "        self.early_stop = False\n",
        "\n",
        "    def __call__(self, val_loss):\n",
        "        if val_loss < self.best_loss - self.min_delta:\n",
        "            self.best_loss = val_loss\n",
        "            self.counter = 0\n",
        "        else:\n",
        "            self.counter += 1\n",
        "            if self.counter >= self.patience:\n",
        "                self.early_stop = True\n",
        "\n",
        "\n",
        "# Модель CNN с AdaptiveMaxPool1d\n",
        "\n",
        "class TextCNN(nn.Module):\n",
        "    def __init__(self, embedding_dim, num_classes, dropout=0.1):\n",
        "        super(TextCNN, self).__init__()\n",
        "        self.convs = nn.ModuleList([\n",
        "            nn.Conv1d(in_channels=embedding_dim, out_channels=64, kernel_size=k)\n",
        "            for k in [3, 4, 5]\n",
        "        ])\n",
        "        self.pool = nn.AdaptiveMaxPool1d(1)\n",
        "        self.relu = nn.ReLU()\n",
        "        self.dropout = nn.Dropout(dropout)\n",
        "        self.fc1 = nn.Linear(64 * 3, 32)\n",
        "        self.fc2 = nn.Linear(32, num_classes)\n",
        "\n",
        "    def forward(self, x):\n",
        "        x = x.permute(0, 2, 1)  # (batch, emb_dim, seq_len)\n",
        "        convs = [self.pool(self.relu(conv(x))).squeeze(-1) for conv in self.convs]\n",
        "        out = torch.cat(convs, dim=1)\n",
        "        out = self.dropout(self.relu(self.fc1(out)))\n",
        "        return self.fc2(out)\n",
        "\n",
        "\n",
        "# Модель BiLSTM с Attention\n",
        "\n",
        "class Attention(nn.Module):\n",
        "    def __init__(self, hidden_dim):\n",
        "        super(Attention, self).__init__()\n",
        "        self.attn = nn.Linear(hidden_dim * 2, 1)\n",
        "\n",
        "    def forward(self, lstm_output, mask):\n",
        "        # lstm_output: (batch, seq_len, hidden_dim*2)\n",
        "        attn_weights = self.attn(lstm_output).squeeze(-1)  # (batch, seq_len)\n",
        "        attn_weights = attn_weights.masked_fill(~mask, -1e9)\n",
        "        attn_weights = torch.softmax(attn_weights, dim=1)  # нормализация\n",
        "        context = torch.bmm(attn_weights.unsqueeze(1), lstm_output).squeeze(1)\n",
        "        return context, attn_weights\n",
        "\n",
        "class BiLSTMClassifier(nn.Module):\n",
        "    def __init__(self, embedding_dim, hidden_dim, num_classes, dropout=0.1):\n",
        "        super(BiLSTMClassifier, self).__init__()\n",
        "        self.hidden_dim = hidden_dim\n",
        "        self.lstm = nn.LSTM(\n",
        "            input_size=embedding_dim,\n",
        "            hidden_size=hidden_dim,\n",
        "            batch_first=True,\n",
        "            bidirectional=True\n",
        "        )\n",
        "        self.attention = Attention(hidden_dim)\n",
        "        self.dropout = nn.Dropout(dropout)\n",
        "        self.fc1 = nn.Linear(hidden_dim * 2, 32)\n",
        "        self.fc2 = nn.Linear(32, num_classes)\n",
        "\n",
        "    def forward(self, x):\n",
        "        with torch.no_grad():\n",
        "            mask = (x.abs().sum(dim=2) != 0)\n",
        "            lengths = mask.sum(dim=1).cpu()\n",
        "\n",
        "        packed = nn.utils.rnn.pack_padded_sequence(\n",
        "            x, lengths, batch_first=True, enforce_sorted=False\n",
        "        )\n",
        "        output_packed, _ = self.lstm(packed)\n",
        "        output, _ = nn.utils.rnn.pad_packed_sequence(output_packed, batch_first=True)\n",
        "\n",
        "        # Attention\n",
        "        context, _ = self.attention(output, mask)\n",
        "        out = self.dropout(torch.relu(self.fc1(context)))\n",
        "        return self.fc2(out)\n",
        "\n",
        "\n",
        "# Обучение модели\n",
        "\n",
        "def train_model(model, train_loader, test_loader, epochs=10, lr=1e-3, patience=3):\n",
        "    model = model.to(device)\n",
        "    criterion = nn.CrossEntropyLoss()\n",
        "    optimizer = optim.Adam(model.parameters(), lr=lr)\n",
        "    early_stopping = EarlyStopping(patience=patience)\n",
        "\n",
        "    for epoch in range(epochs):\n",
        "        model.train()\n",
        "        total_loss, correct, total = 0, 0, 0\n",
        "        loop = tqdm(train_loader, desc=f\"Epoch {epoch+1}/{epochs} [Train]\")\n",
        "        for X_batch, y_batch in loop:\n",
        "            X_batch, y_batch = X_batch.to(device), y_batch.to(device)\n",
        "            optimizer.zero_grad()\n",
        "            outputs = model(X_batch)\n",
        "            loss = criterion(outputs, y_batch)\n",
        "            loss.backward()\n",
        "            optimizer.step()\n",
        "\n",
        "            preds = outputs.argmax(dim=1)\n",
        "            correct += (preds == y_batch).sum().item()\n",
        "            total += y_batch.size(0)\n",
        "            total_loss += loss.item()\n",
        "\n",
        "            loop.set_postfix(loss=loss.item())\n",
        "\n",
        "        train_acc = correct / total\n",
        "        avg_train_loss = total_loss / len(train_loader)\n",
        "\n",
        "        # Валидация\n",
        "        model.eval()\n",
        "        val_loss, val_correct, val_total = 0, 0, 0\n",
        "        with torch.no_grad():\n",
        "            for X_batch, y_batch in tqdm(test_loader, desc=\"Validation\", leave=False):\n",
        "                X_batch, y_batch = X_batch.to(device), y_batch.to(device)\n",
        "                outputs = model(X_batch)\n",
        "                loss = criterion(outputs, y_batch)\n",
        "                val_loss += loss.item()\n",
        "                preds = outputs.argmax(dim=1)\n",
        "                val_correct += (preds == y_batch).sum().item()\n",
        "                val_total += y_batch.size(0)\n",
        "\n",
        "        avg_val_loss = val_loss / len(test_loader)\n",
        "        val_acc = val_correct / val_total\n",
        "        print(f\"Epoch {epoch+1}/{epochs} | Train Loss: {avg_train_loss:.4f} | Val Loss: {avg_val_loss:.4f} | Val Acc: {val_acc:.4f}\")\n",
        "\n",
        "        early_stopping(avg_val_loss)\n",
        "        if early_stopping.early_stop:\n",
        "            print(\"Early stopping triggered.\")\n",
        "            break\n",
        "\n",
        "\n",
        "# Тестирование модели\n",
        "\n",
        "def evaluate_model(model, loader):\n",
        "    model.eval()\n",
        "    preds_all, y_all = [], []\n",
        "    with torch.no_grad():\n",
        "        for X_batch, y_batch in loader:\n",
        "            X_batch = X_batch.to(device)\n",
        "            outputs = model(X_batch)\n",
        "            preds = outputs.argmax(dim=1).cpu().numpy()\n",
        "            preds_all.extend(preds)\n",
        "            y_all.extend(y_batch.numpy())\n",
        "\n",
        "    acc = accuracy_score(y_all, preds_all)\n",
        "    precision, recall, f1, _ = precision_recall_fscore_support(\n",
        "        y_all, preds_all, average='weighted', zero_division=0\n",
        "    )\n",
        "    print(f\"Accuracy: {acc:.4f} | Precision: {precision:.4f} | Recall: {recall:.4f} | F1: {f1:.4f}\")\n",
        "\n",
        "\n",
        "# Обучение и тестирование CNN\n",
        "\n",
        "cnn_model = TextCNN(embedding_dim, num_classes)\n",
        "train_model(cnn_model, train_loader, test_loader, epochs=15, patience=4)\n",
        "print(\"\\n--- CNN Evaluation ---\")\n",
        "evaluate_model(cnn_model, test_loader)\n",
        "print()\n",
        "\n",
        "\n",
        "# Обучение и тестирование BiLSTM + Attention\n",
        "\n",
        "bilstm_model = BiLSTMClassifier(embedding_dim, hidden_dim=64, num_classes=num_classes)\n",
        "train_model(bilstm_model, train_loader, test_loader, epochs=15, patience=4)\n",
        "print(\"\\n--- BiLSTM + Attention Evaluation ---\")\n",
        "evaluate_model(bilstm_model, test_loader)"
      ],
      "metadata": {
        "colab": {
          "base_uri": "https://localhost:8080/"
        },
        "id": "pjWu87Pu6Hfw",
        "outputId": "2fd1b7de-2cc2-4a21-cdc7-0da14939d06a"
      },
      "execution_count": null,
      "outputs": [
        {
          "output_type": "stream",
          "name": "stderr",
          "text": [
            "Epoch 1/15 [Train]: 100%|██████████| 1384/1384 [03:10<00:00,  7.28it/s, loss=1.04]\n"
          ]
        },
        {
          "output_type": "stream",
          "name": "stdout",
          "text": [
            "Epoch 1/15 | Train Loss: 1.0490 | Val Loss: 1.0045 | Val Acc: 0.4762\n"
          ]
        },
        {
          "output_type": "stream",
          "name": "stderr",
          "text": [
            "Epoch 2/15 [Train]: 100%|██████████| 1384/1384 [03:11<00:00,  7.24it/s, loss=0.701]\n"
          ]
        },
        {
          "output_type": "stream",
          "name": "stdout",
          "text": [
            "Epoch 2/15 | Train Loss: 0.9596 | Val Loss: 0.9653 | Val Acc: 0.5145\n"
          ]
        },
        {
          "output_type": "stream",
          "name": "stderr",
          "text": [
            "Epoch 3/15 [Train]: 100%|██████████| 1384/1384 [03:18<00:00,  6.96it/s, loss=1.04]\n"
          ]
        },
        {
          "output_type": "stream",
          "name": "stdout",
          "text": [
            "Epoch 3/15 | Train Loss: 0.9024 | Val Loss: 0.9608 | Val Acc: 0.5202\n"
          ]
        },
        {
          "output_type": "stream",
          "name": "stderr",
          "text": [
            "Epoch 4/15 [Train]: 100%|██████████| 1384/1384 [03:18<00:00,  6.97it/s, loss=1.14]\n"
          ]
        },
        {
          "output_type": "stream",
          "name": "stdout",
          "text": [
            "Epoch 4/15 | Train Loss: 0.8424 | Val Loss: 0.9683 | Val Acc: 0.5234\n"
          ]
        },
        {
          "output_type": "stream",
          "name": "stderr",
          "text": [
            "Epoch 5/15 [Train]: 100%|██████████| 1384/1384 [03:16<00:00,  7.04it/s, loss=0.837]\n"
          ]
        },
        {
          "output_type": "stream",
          "name": "stdout",
          "text": [
            "Epoch 5/15 | Train Loss: 0.7693 | Val Loss: 0.9835 | Val Acc: 0.5225\n"
          ]
        },
        {
          "output_type": "stream",
          "name": "stderr",
          "text": [
            "Epoch 6/15 [Train]: 100%|██████████| 1384/1384 [03:14<00:00,  7.11it/s, loss=0.871]\n"
          ]
        },
        {
          "output_type": "stream",
          "name": "stdout",
          "text": [
            "Epoch 6/15 | Train Loss: 0.6865 | Val Loss: 1.0845 | Val Acc: 0.5162\n"
          ]
        },
        {
          "output_type": "stream",
          "name": "stderr",
          "text": [
            "Epoch 7/15 [Train]: 100%|██████████| 1384/1384 [03:15<00:00,  7.08it/s, loss=0.688]\n"
          ]
        },
        {
          "output_type": "stream",
          "name": "stdout",
          "text": [
            "Epoch 7/15 | Train Loss: 0.6018 | Val Loss: 1.1665 | Val Acc: 0.5132\n",
            "Early stopping triggered.\n",
            "\n",
            "--- CNN Evaluation ---\n",
            "Accuracy: 0.5132 | Precision: 0.5025 | Recall: 0.5132 | F1: 0.4972\n",
            "\n"
          ]
        },
        {
          "output_type": "stream",
          "name": "stderr",
          "text": [
            "Epoch 1/15 [Train]: 100%|██████████| 1384/1384 [09:06<00:00,  2.53it/s, loss=1.13]\n"
          ]
        },
        {
          "output_type": "stream",
          "name": "stdout",
          "text": [
            "Epoch 1/15 | Train Loss: 1.0171 | Val Loss: 0.9687 | Val Acc: 0.5115\n"
          ]
        },
        {
          "output_type": "stream",
          "name": "stderr",
          "text": [
            "Epoch 2/15 [Train]: 100%|██████████| 1384/1384 [09:09<00:00,  2.52it/s, loss=1]\n"
          ]
        },
        {
          "output_type": "stream",
          "name": "stdout",
          "text": [
            "Epoch 2/15 | Train Loss: 0.9444 | Val Loss: 0.9304 | Val Acc: 0.5417\n"
          ]
        },
        {
          "output_type": "stream",
          "name": "stderr",
          "text": [
            "Epoch 3/15 [Train]: 100%|██████████| 1384/1384 [08:46<00:00,  2.63it/s, loss=0.976]\n"
          ]
        },
        {
          "output_type": "stream",
          "name": "stdout",
          "text": [
            "Epoch 3/15 | Train Loss: 0.9134 | Val Loss: 0.9212 | Val Acc: 0.5484\n"
          ]
        },
        {
          "output_type": "stream",
          "name": "stderr",
          "text": [
            "Epoch 4/15 [Train]: 100%|██████████| 1384/1384 [08:38<00:00,  2.67it/s, loss=0.715]\n"
          ]
        },
        {
          "output_type": "stream",
          "name": "stdout",
          "text": [
            "Epoch 4/15 | Train Loss: 0.8931 | Val Loss: 0.9120 | Val Acc: 0.5534\n"
          ]
        },
        {
          "output_type": "stream",
          "name": "stderr",
          "text": [
            "Epoch 5/15 [Train]: 100%|██████████| 1384/1384 [08:58<00:00,  2.57it/s, loss=0.926]\n"
          ]
        },
        {
          "output_type": "stream",
          "name": "stdout",
          "text": [
            "Epoch 5/15 | Train Loss: 0.8750 | Val Loss: 0.9083 | Val Acc: 0.5578\n"
          ]
        },
        {
          "output_type": "stream",
          "name": "stderr",
          "text": [
            "Epoch 6/15 [Train]: 100%|██████████| 1384/1384 [09:05<00:00,  2.54it/s, loss=0.92]\n"
          ]
        },
        {
          "output_type": "stream",
          "name": "stdout",
          "text": [
            "Epoch 6/15 | Train Loss: 0.8581 | Val Loss: 0.9284 | Val Acc: 0.5480\n"
          ]
        },
        {
          "output_type": "stream",
          "name": "stderr",
          "text": [
            "Epoch 7/15 [Train]: 100%|██████████| 1384/1384 [09:19<00:00,  2.47it/s, loss=0.62]\n"
          ]
        },
        {
          "output_type": "stream",
          "name": "stdout",
          "text": [
            "Epoch 7/15 | Train Loss: 0.8426 | Val Loss: 0.9147 | Val Acc: 0.5535\n"
          ]
        },
        {
          "output_type": "stream",
          "name": "stderr",
          "text": [
            "Epoch 8/15 [Train]: 100%|██████████| 1384/1384 [09:14<00:00,  2.50it/s, loss=1.06]\n"
          ]
        },
        {
          "output_type": "stream",
          "name": "stdout",
          "text": [
            "Epoch 8/15 | Train Loss: 0.8231 | Val Loss: 0.9153 | Val Acc: 0.5555\n"
          ]
        },
        {
          "output_type": "stream",
          "name": "stderr",
          "text": [
            "Epoch 9/15 [Train]: 100%|██████████| 1384/1384 [09:14<00:00,  2.50it/s, loss=0.7]\n"
          ]
        },
        {
          "output_type": "stream",
          "name": "stdout",
          "text": [
            "Epoch 9/15 | Train Loss: 0.8040 | Val Loss: 0.9355 | Val Acc: 0.5462\n",
            "Early stopping triggered.\n",
            "\n",
            "--- BiLSTM + Attention Evaluation ---\n",
            "Accuracy: 0.5462 | Precision: 0.5646 | Recall: 0.5462 | F1: 0.5513\n"
          ]
        }
      ]
    },
    {
      "cell_type": "markdown",
      "source": [
        "Как и в случае базовых моделей, качество классификации на 3 класса довольно низкое. Попробуем выполнить бинарную классификацию, исключив нейтральный класс."
      ],
      "metadata": {
        "id": "MdFQvhu650hX"
      }
    },
    {
      "cell_type": "markdown",
      "source": [
        "# Бинарная классификация"
      ],
      "metadata": {
        "id": "mDxSOP3P9HOR"
      }
    },
    {
      "cell_type": "code",
      "source": [
        "labels = ['neg', 'pos']\n",
        "df_binary = df[df['label'].isin(labels)]\n",
        "\n",
        "df_binary['label'].value_counts()"
      ],
      "metadata": {
        "colab": {
          "base_uri": "https://localhost:8080/",
          "height": 178
        },
        "id": "aN1GU-Vo9Aow",
        "outputId": "df59ab9b-91ef-403f-c6ea-5650fce9f477"
      },
      "execution_count": null,
      "outputs": [
        {
          "output_type": "execute_result",
          "data": {
            "text/plain": [
              "label\n",
              "pos    19999\n",
              "neg    19803\n",
              "Name: count, dtype: int64"
            ],
            "text/html": [
              "<div>\n",
              "<style scoped>\n",
              "    .dataframe tbody tr th:only-of-type {\n",
              "        vertical-align: middle;\n",
              "    }\n",
              "\n",
              "    .dataframe tbody tr th {\n",
              "        vertical-align: top;\n",
              "    }\n",
              "\n",
              "    .dataframe thead th {\n",
              "        text-align: right;\n",
              "    }\n",
              "</style>\n",
              "<table border=\"1\" class=\"dataframe\">\n",
              "  <thead>\n",
              "    <tr style=\"text-align: right;\">\n",
              "      <th></th>\n",
              "      <th>count</th>\n",
              "    </tr>\n",
              "    <tr>\n",
              "      <th>label</th>\n",
              "      <th></th>\n",
              "    </tr>\n",
              "  </thead>\n",
              "  <tbody>\n",
              "    <tr>\n",
              "      <th>pos</th>\n",
              "      <td>19999</td>\n",
              "    </tr>\n",
              "    <tr>\n",
              "      <th>neg</th>\n",
              "      <td>19803</td>\n",
              "    </tr>\n",
              "  </tbody>\n",
              "</table>\n",
              "</div><br><label><b>dtype:</b> int64</label>"
            ]
          },
          "metadata": {},
          "execution_count": 49
        }
      ]
    },
    {
      "cell_type": "code",
      "source": [
        "X_train, X_test, y_train, y_test = train_test_split(\n",
        "    df_binary['text'],\n",
        "    df_binary['label'],\n",
        "    test_size=0.2,\n",
        "    random_state=42,\n",
        "    stratify=df_binary[\"label\"]\n",
        ")\n",
        "\n",
        "mask_to_remove = (X_train.str.split().str.len() < 50) | (X_train.str.split().str.len() > 700)\n",
        "\n",
        "X_train_cleaned = X_train[~mask_to_remove]\n",
        "y_train_cleaned = y_train[~mask_to_remove]\n",
        "\n",
        "y_train_enc = le.fit_transform(y_train_cleaned)\n",
        "y_test_enc = le.transform(y_test)\n",
        "num_classes = len(le.classes_)\n",
        "\n",
        "X_train_cleaned = list(X_train_cleaned)\n",
        "y_train_enc = np.array(y_train_enc)\n",
        "X_test = list(X_test)\n",
        "y_test_enc = np.array(y_test_enc)\n",
        "\n",
        "train_dataset = FastTextDataset(X_train_cleaned, y_train_enc, ft_model, max_len)\n",
        "test_dataset = FastTextDataset(X_test, y_test_enc, ft_model, max_len)\n",
        "\n",
        "train_loader = DataLoader(train_dataset, batch_size=batch_size, shuffle=True)\n",
        "test_loader = DataLoader(test_dataset, batch_size=batch_size, shuffle=False)\n",
        "\n",
        "\n",
        "# Обучение и тестирование CNN\n",
        "\n",
        "cnn_model = TextCNN(embedding_dim, num_classes)\n",
        "train_model(cnn_model, train_loader, test_loader, epochs=15, patience=4)\n",
        "print(\"\\n--- CNN Evaluation ---\")\n",
        "evaluate_model(cnn_model, test_loader)\n",
        "print()\n",
        "\n",
        "\n",
        "# Обучение и тестирование BiLSTM + Attention\n",
        "\n",
        "bilstm_model = BiLSTMClassifier(embedding_dim, hidden_dim=64, num_classes=num_classes)\n",
        "train_model(bilstm_model, train_loader, test_loader, epochs=15, patience=4)\n",
        "print(\"\\n--- BiLSTM + Attention Evaluation ---\")\n",
        "evaluate_model(bilstm_model, test_loader)"
      ],
      "metadata": {
        "colab": {
          "base_uri": "https://localhost:8080/"
        },
        "id": "PwRYLt4L9JyY",
        "outputId": "23aa2c9b-4924-4985-9981-ba487a3094f5"
      },
      "execution_count": null,
      "outputs": [
        {
          "output_type": "stream",
          "name": "stderr",
          "text": [
            "Epoch 1/15 [Train]: 100%|██████████| 922/922 [02:18<00:00,  6.66it/s, loss=0.533]\n"
          ]
        },
        {
          "output_type": "stream",
          "name": "stdout",
          "text": [
            "Epoch 1/15 | Train Loss: 0.6133 | Val Loss: 0.5420 | Val Acc: 0.7237\n"
          ]
        },
        {
          "output_type": "stream",
          "name": "stderr",
          "text": [
            "Epoch 2/15 [Train]: 100%|██████████| 922/922 [02:13<00:00,  6.90it/s, loss=0.74]\n"
          ]
        },
        {
          "output_type": "stream",
          "name": "stdout",
          "text": [
            "Epoch 2/15 | Train Loss: 0.4905 | Val Loss: 0.5081 | Val Acc: 0.7464\n"
          ]
        },
        {
          "output_type": "stream",
          "name": "stderr",
          "text": [
            "Epoch 3/15 [Train]: 100%|██████████| 922/922 [02:11<00:00,  7.01it/s, loss=0.637]\n"
          ]
        },
        {
          "output_type": "stream",
          "name": "stdout",
          "text": [
            "Epoch 3/15 | Train Loss: 0.4166 | Val Loss: 0.5524 | Val Acc: 0.7376\n"
          ]
        },
        {
          "output_type": "stream",
          "name": "stderr",
          "text": [
            "Epoch 4/15 [Train]: 100%|██████████| 922/922 [02:08<00:00,  7.16it/s, loss=0.226]\n"
          ]
        },
        {
          "output_type": "stream",
          "name": "stdout",
          "text": [
            "Epoch 4/15 | Train Loss: 0.3405 | Val Loss: 0.5304 | Val Acc: 0.7527\n"
          ]
        },
        {
          "output_type": "stream",
          "name": "stderr",
          "text": [
            "Epoch 5/15 [Train]: 100%|██████████| 922/922 [02:09<00:00,  7.13it/s, loss=0.418]\n"
          ]
        },
        {
          "output_type": "stream",
          "name": "stdout",
          "text": [
            "Epoch 5/15 | Train Loss: 0.2591 | Val Loss: 0.6057 | Val Acc: 0.7515\n"
          ]
        },
        {
          "output_type": "stream",
          "name": "stderr",
          "text": [
            "Epoch 6/15 [Train]: 100%|██████████| 922/922 [02:12<00:00,  6.96it/s, loss=0.151]\n"
          ]
        },
        {
          "output_type": "stream",
          "name": "stdout",
          "text": [
            "Epoch 6/15 | Train Loss: 0.1765 | Val Loss: 0.7282 | Val Acc: 0.7391\n",
            "Early stopping triggered.\n",
            "\n",
            "--- CNN Evaluation ---\n",
            "Accuracy: 0.7391 | Precision: 0.7461 | Recall: 0.7391 | F1: 0.7371\n",
            "\n"
          ]
        },
        {
          "output_type": "stream",
          "name": "stderr",
          "text": [
            "Epoch 1/15 [Train]: 100%|██████████| 922/922 [06:10<00:00,  2.49it/s, loss=0.618]\n"
          ]
        },
        {
          "output_type": "stream",
          "name": "stdout",
          "text": [
            "Epoch 1/15 | Train Loss: 0.5861 | Val Loss: 0.5360 | Val Acc: 0.7288\n"
          ]
        },
        {
          "output_type": "stream",
          "name": "stderr",
          "text": [
            "Epoch 2/15 [Train]: 100%|██████████| 922/922 [05:47<00:00,  2.65it/s, loss=0.414]\n"
          ]
        },
        {
          "output_type": "stream",
          "name": "stdout",
          "text": [
            "Epoch 2/15 | Train Loss: 0.5082 | Val Loss: 0.4965 | Val Acc: 0.7579\n"
          ]
        },
        {
          "output_type": "stream",
          "name": "stderr",
          "text": [
            "Epoch 3/15 [Train]: 100%|██████████| 922/922 [06:00<00:00,  2.56it/s, loss=0.608]\n"
          ]
        },
        {
          "output_type": "stream",
          "name": "stdout",
          "text": [
            "Epoch 3/15 | Train Loss: 0.4776 | Val Loss: 0.4770 | Val Acc: 0.7686\n"
          ]
        },
        {
          "output_type": "stream",
          "name": "stderr",
          "text": [
            "Epoch 4/15 [Train]: 100%|██████████| 922/922 [05:43<00:00,  2.69it/s, loss=0.296]\n"
          ]
        },
        {
          "output_type": "stream",
          "name": "stdout",
          "text": [
            "Epoch 4/15 | Train Loss: 0.4560 | Val Loss: 0.4736 | Val Acc: 0.7719\n"
          ]
        },
        {
          "output_type": "stream",
          "name": "stderr",
          "text": [
            "Epoch 5/15 [Train]: 100%|██████████| 922/922 [05:43<00:00,  2.68it/s, loss=0.379]\n"
          ]
        },
        {
          "output_type": "stream",
          "name": "stdout",
          "text": [
            "Epoch 5/15 | Train Loss: 0.4369 | Val Loss: 0.4958 | Val Acc: 0.7581\n"
          ]
        },
        {
          "output_type": "stream",
          "name": "stderr",
          "text": [
            "Epoch 6/15 [Train]: 100%|██████████| 922/922 [05:53<00:00,  2.61it/s, loss=0.361]\n"
          ]
        },
        {
          "output_type": "stream",
          "name": "stdout",
          "text": [
            "Epoch 6/15 | Train Loss: 0.4219 | Val Loss: 0.4522 | Val Acc: 0.7851\n"
          ]
        },
        {
          "output_type": "stream",
          "name": "stderr",
          "text": [
            "Epoch 7/15 [Train]: 100%|██████████| 922/922 [05:44<00:00,  2.67it/s, loss=0.244]\n"
          ]
        },
        {
          "output_type": "stream",
          "name": "stdout",
          "text": [
            "Epoch 7/15 | Train Loss: 0.4091 | Val Loss: 0.4598 | Val Acc: 0.7814\n"
          ]
        },
        {
          "output_type": "stream",
          "name": "stderr",
          "text": [
            "Epoch 8/15 [Train]: 100%|██████████| 922/922 [05:50<00:00,  2.63it/s, loss=0.189]\n"
          ]
        },
        {
          "output_type": "stream",
          "name": "stdout",
          "text": [
            "Epoch 8/15 | Train Loss: 0.3944 | Val Loss: 0.4611 | Val Acc: 0.7882\n"
          ]
        },
        {
          "output_type": "stream",
          "name": "stderr",
          "text": [
            "Epoch 9/15 [Train]: 100%|██████████| 922/922 [05:45<00:00,  2.67it/s, loss=0.402]\n"
          ]
        },
        {
          "output_type": "stream",
          "name": "stdout",
          "text": [
            "Epoch 9/15 | Train Loss: 0.3809 | Val Loss: 0.4581 | Val Acc: 0.7875\n"
          ]
        },
        {
          "output_type": "stream",
          "name": "stderr",
          "text": [
            "Epoch 10/15 [Train]: 100%|██████████| 922/922 [05:38<00:00,  2.73it/s, loss=0.217]\n"
          ]
        },
        {
          "output_type": "stream",
          "name": "stdout",
          "text": [
            "Epoch 10/15 | Train Loss: 0.3641 | Val Loss: 0.4581 | Val Acc: 0.7865\n",
            "Early stopping triggered.\n",
            "\n",
            "--- BiLSTM + Attention Evaluation ---\n",
            "Accuracy: 0.7865 | Precision: 0.7867 | Recall: 0.7865 | F1: 0.7864\n"
          ]
        }
      ]
    },
    {
      "cell_type": "code",
      "source": [
        "from sklearn.metrics import (\n",
        "    accuracy_score,\n",
        "    f1_score,\n",
        "    precision_recall_fscore_support,\n",
        "    roc_auc_score,\n",
        "    average_precision_score,\n",
        "    confusion_matrix,\n",
        ")\n",
        "\n",
        "def evaluate_model(model, loader):\n",
        "    model.eval()\n",
        "    preds_all, y_all = [], []\n",
        "    probs_all = []\n",
        "\n",
        "    with torch.no_grad():\n",
        "        for X_batch, y_batch in loader:\n",
        "            X_batch = X_batch.to(device)\n",
        "            outputs = model(X_batch)\n",
        "            probs = torch.softmax(outputs, dim=1)[:, 1].cpu().numpy()  # вероятности для pos класса\n",
        "            preds = outputs.argmax(dim=1).cpu().numpy()\n",
        "\n",
        "            probs_all.extend(probs)\n",
        "            preds_all.extend(preds)\n",
        "            y_all.extend(y_batch.numpy())\n",
        "\n",
        "    # --- Метрики ---\n",
        "    acc = accuracy_score(y_all, preds_all)\n",
        "    f1_macro = f1_score(y_all, preds_all, average='macro')\n",
        "    f1_weighted = f1_score(y_all, preds_all, average='weighted')\n",
        "\n",
        "    try:\n",
        "        roc_auc = roc_auc_score(y_all, probs_all)\n",
        "        pr_auc = average_precision_score(y_all, probs_all)\n",
        "    except ValueError:\n",
        "        roc_auc = None\n",
        "        pr_auc = None\n",
        "\n",
        "    print(f\"Accuracy: {acc:.4f}\")\n",
        "    print(f\"Macro-F1: {f1_macro:.4f}\")\n",
        "    print(f\"Weighted-F1: {f1_weighted:.4f}\")\n",
        "    if roc_auc is not None:\n",
        "        print(f\"ROC-AUC: {roc_auc:.4f}\")\n",
        "        print(f\"PR-AUC: {pr_auc:.4f}\")\n",
        "\n",
        "    # --- Confusion Matrix ---\n",
        "    cm = confusion_matrix(y_all, preds_all)\n",
        "    print(\"\\nConfusion Matrix (test):\")\n",
        "    print(cm)\n",
        "\n",
        "    # Визуализация матрицы ошибок\n",
        "    plt.figure(figsize=(4, 3))\n",
        "    sns.heatmap(cm, annot=True, fmt='d', cmap='Blues',\n",
        "                xticklabels=le.classes_, yticklabels=le.classes_)\n",
        "    plt.xlabel('Predicted')\n",
        "    plt.ylabel('True')\n",
        "    plt.title('Confusion Matrix')\n",
        "    plt.show()\n",
        "\n",
        "\n",
        "print(\"\\n--- CNN Evaluation ---\")\n",
        "evaluate_model(cnn_model, test_loader)\n",
        "print()\n",
        "print(\"\\n--- BiLSTM + Attention Evaluation ---\")\n",
        "evaluate_model(bilstm_model, test_loader)"
      ],
      "metadata": {
        "colab": {
          "base_uri": "https://localhost:8080/",
          "height": 1000
        },
        "id": "cp3TgdSU3Lxd",
        "outputId": "13defcff-8c75-49d9-cc5d-634e035085ed"
      },
      "execution_count": null,
      "outputs": [
        {
          "output_type": "stream",
          "name": "stdout",
          "text": [
            "\n",
            "--- CNN Evaluation ---\n",
            "Accuracy: 0.7391\n",
            "Macro-F1: 0.7369\n",
            "Weighted-F1: 0.7371\n",
            "ROC-AUC: 0.8260\n",
            "PR-AUC: 0.8219\n",
            "\n",
            "Confusion Matrix (test):\n",
            "[[2581 1380]\n",
            " [ 697 3303]]\n"
          ]
        },
        {
          "output_type": "display_data",
          "data": {
            "text/plain": [
              "<Figure size 400x300 with 2 Axes>"
            ],
            "image/png": "[encoded data removed]"
          },
          "metadata": {}
        },
        {
          "output_type": "stream",
          "name": "stdout",
          "text": [
            "\n",
            "\n",
            "--- BiLSTM + Attention Evaluation ---\n",
            "Accuracy: 0.7865\n",
            "Macro-F1: 0.7864\n",
            "Weighted-F1: 0.7864\n",
            "ROC-AUC: 0.8735\n",
            "PR-AUC: 0.8700\n",
            "\n",
            "Confusion Matrix (test):\n",
            "[[3044  917]\n",
            " [ 783 3217]]\n"
          ]
        },
        {
          "output_type": "display_data",
          "data": {
            "text/plain": [
              "<Figure size 400x300 with 2 Axes>"
            ],
            "image/png": "[encoded data removed]"
          },
          "metadata": {}
        }
      ]
    },
    {
      "cell_type": "markdown",
      "source": [
        "При бинарной классификации метрики заметно выше, что подтверждает гипотезу о том, что нейтральный класс значительно усложняет задачу классификации. При этом полученные метрики все еще ниже метрик базовых моделей."
      ],
      "metadata": {
        "id": "IiQL3jvc6jnZ"
      }
    }
  ],
  "metadata": {
    "colab": {
      "gpuType": "T4",
      "provenance": []
    },
    "kernelspec": {
      "display_name": "Python 3",
      "name": "python3"
    },
    "language_info": {
      "name": "python"
    }
  },
  "nbformat": 4,
  "nbformat_minor": 0
}